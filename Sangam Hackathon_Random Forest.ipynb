{
 "cells": [
  {
   "cell_type": "code",
   "execution_count": 1,
   "metadata": {},
   "outputs": [],
   "source": [
    "import pandas as pd\n",
    "import numpy as np"
   ]
  },
  {
   "cell_type": "code",
   "execution_count": 2,
   "metadata": {},
   "outputs": [],
   "source": [
    "train_data = pd.read_csv(\"Train.csv\", na_values=(\"NA\", \"\", \" \"))\n",
    "test_data = pd.read_csv(\"Test.csv\", na_values=(\"NA\", \"\", \" \"))"
   ]
  },
  {
   "cell_type": "code",
   "execution_count": 3,
   "metadata": {},
   "outputs": [
    {
     "name": "stdout",
     "output_type": "stream",
     "text": [
      "(33750, 15)\n",
      "(14454, 14)\n"
     ]
    }
   ],
   "source": [
    "print(train_data.shape)\n",
    "print(test_data.shape)"
   ]
  },
  {
   "cell_type": "code",
   "execution_count": 4,
   "metadata": {},
   "outputs": [
    {
     "name": "stdout",
     "output_type": "stream",
     "text": [
      "<class 'pandas.core.frame.DataFrame'>\n",
      "RangeIndex: 33750 entries, 0 to 33749\n",
      "Data columns (total 15 columns):\n",
      "date_time              33750 non-null object\n",
      "is_holiday             33750 non-null object\n",
      "air_pollution_index    33750 non-null int64\n",
      "humidity               33750 non-null int64\n",
      "wind_speed             33750 non-null int64\n",
      "wind_direction         33750 non-null int64\n",
      "visibility_in_miles    33750 non-null int64\n",
      "dew_point              33750 non-null int64\n",
      "temperature            33750 non-null float64\n",
      "rain_p_h               33750 non-null float64\n",
      "snow_p_h               33750 non-null float64\n",
      "clouds_all             33750 non-null int64\n",
      "weather_type           33750 non-null object\n",
      "weather_description    33750 non-null object\n",
      "traffic_volume         33750 non-null int64\n",
      "dtypes: float64(3), int64(8), object(4)\n",
      "memory usage: 3.9+ MB\n"
     ]
    }
   ],
   "source": [
    "train_data.info()"
   ]
  },
  {
   "cell_type": "code",
   "execution_count": 5,
   "metadata": {
    "scrolled": true
   },
   "outputs": [
    {
     "data": {
      "text/html": [
       "<div>\n",
       "<style scoped>\n",
       "    .dataframe tbody tr th:only-of-type {\n",
       "        vertical-align: middle;\n",
       "    }\n",
       "\n",
       "    .dataframe tbody tr th {\n",
       "        vertical-align: top;\n",
       "    }\n",
       "\n",
       "    .dataframe thead th {\n",
       "        text-align: right;\n",
       "    }\n",
       "</style>\n",
       "<table border=\"1\" class=\"dataframe\">\n",
       "  <thead>\n",
       "    <tr style=\"text-align: right;\">\n",
       "      <th></th>\n",
       "      <th>air_pollution_index</th>\n",
       "      <th>humidity</th>\n",
       "      <th>wind_speed</th>\n",
       "      <th>wind_direction</th>\n",
       "      <th>visibility_in_miles</th>\n",
       "      <th>dew_point</th>\n",
       "      <th>temperature</th>\n",
       "      <th>rain_p_h</th>\n",
       "      <th>snow_p_h</th>\n",
       "      <th>clouds_all</th>\n",
       "      <th>traffic_volume</th>\n",
       "    </tr>\n",
       "  </thead>\n",
       "  <tbody>\n",
       "    <tr>\n",
       "      <th>count</th>\n",
       "      <td>33750.000000</td>\n",
       "      <td>33750.000000</td>\n",
       "      <td>33750.000000</td>\n",
       "      <td>33750.000000</td>\n",
       "      <td>33750.000000</td>\n",
       "      <td>33750.000000</td>\n",
       "      <td>33750.000000</td>\n",
       "      <td>33750.000000</td>\n",
       "      <td>33750.000000</td>\n",
       "      <td>33750.000000</td>\n",
       "      <td>33750.000000</td>\n",
       "    </tr>\n",
       "    <tr>\n",
       "      <th>mean</th>\n",
       "      <td>154.841422</td>\n",
       "      <td>71.209007</td>\n",
       "      <td>3.378193</td>\n",
       "      <td>199.471852</td>\n",
       "      <td>4.989748</td>\n",
       "      <td>4.989748</td>\n",
       "      <td>280.069587</td>\n",
       "      <td>0.448739</td>\n",
       "      <td>0.000318</td>\n",
       "      <td>50.458785</td>\n",
       "      <td>3240.118163</td>\n",
       "    </tr>\n",
       "    <tr>\n",
       "      <th>std</th>\n",
       "      <td>83.735515</td>\n",
       "      <td>16.852248</td>\n",
       "      <td>2.055792</td>\n",
       "      <td>99.841088</td>\n",
       "      <td>2.570021</td>\n",
       "      <td>2.570021</td>\n",
       "      <td>13.415256</td>\n",
       "      <td>53.526500</td>\n",
       "      <td>0.009760</td>\n",
       "      <td>38.871734</td>\n",
       "      <td>1991.487289</td>\n",
       "    </tr>\n",
       "    <tr>\n",
       "      <th>min</th>\n",
       "      <td>10.000000</td>\n",
       "      <td>13.000000</td>\n",
       "      <td>0.000000</td>\n",
       "      <td>0.000000</td>\n",
       "      <td>1.000000</td>\n",
       "      <td>1.000000</td>\n",
       "      <td>0.000000</td>\n",
       "      <td>0.000000</td>\n",
       "      <td>0.000000</td>\n",
       "      <td>0.000000</td>\n",
       "      <td>0.000000</td>\n",
       "    </tr>\n",
       "    <tr>\n",
       "      <th>25%</th>\n",
       "      <td>83.000000</td>\n",
       "      <td>60.000000</td>\n",
       "      <td>2.000000</td>\n",
       "      <td>130.000000</td>\n",
       "      <td>3.000000</td>\n",
       "      <td>3.000000</td>\n",
       "      <td>271.720000</td>\n",
       "      <td>0.000000</td>\n",
       "      <td>0.000000</td>\n",
       "      <td>1.000000</td>\n",
       "      <td>1165.250000</td>\n",
       "    </tr>\n",
       "    <tr>\n",
       "      <th>50%</th>\n",
       "      <td>155.000000</td>\n",
       "      <td>72.000000</td>\n",
       "      <td>3.000000</td>\n",
       "      <td>200.000000</td>\n",
       "      <td>5.000000</td>\n",
       "      <td>5.000000</td>\n",
       "      <td>280.150000</td>\n",
       "      <td>0.000000</td>\n",
       "      <td>0.000000</td>\n",
       "      <td>64.000000</td>\n",
       "      <td>3335.000000</td>\n",
       "    </tr>\n",
       "    <tr>\n",
       "      <th>75%</th>\n",
       "      <td>228.000000</td>\n",
       "      <td>85.000000</td>\n",
       "      <td>5.000000</td>\n",
       "      <td>290.000000</td>\n",
       "      <td>7.000000</td>\n",
       "      <td>7.000000</td>\n",
       "      <td>290.620000</td>\n",
       "      <td>0.000000</td>\n",
       "      <td>0.000000</td>\n",
       "      <td>90.000000</td>\n",
       "      <td>4926.000000</td>\n",
       "    </tr>\n",
       "    <tr>\n",
       "      <th>max</th>\n",
       "      <td>299.000000</td>\n",
       "      <td>100.000000</td>\n",
       "      <td>16.000000</td>\n",
       "      <td>360.000000</td>\n",
       "      <td>9.000000</td>\n",
       "      <td>9.000000</td>\n",
       "      <td>308.240000</td>\n",
       "      <td>9831.300000</td>\n",
       "      <td>0.510000</td>\n",
       "      <td>100.000000</td>\n",
       "      <td>7280.000000</td>\n",
       "    </tr>\n",
       "  </tbody>\n",
       "</table>\n",
       "</div>"
      ],
      "text/plain": [
       "       air_pollution_index      humidity    wind_speed  wind_direction  \\\n",
       "count         33750.000000  33750.000000  33750.000000    33750.000000   \n",
       "mean            154.841422     71.209007      3.378193      199.471852   \n",
       "std              83.735515     16.852248      2.055792       99.841088   \n",
       "min              10.000000     13.000000      0.000000        0.000000   \n",
       "25%              83.000000     60.000000      2.000000      130.000000   \n",
       "50%             155.000000     72.000000      3.000000      200.000000   \n",
       "75%             228.000000     85.000000      5.000000      290.000000   \n",
       "max             299.000000    100.000000     16.000000      360.000000   \n",
       "\n",
       "       visibility_in_miles     dew_point   temperature      rain_p_h  \\\n",
       "count         33750.000000  33750.000000  33750.000000  33750.000000   \n",
       "mean              4.989748      4.989748    280.069587      0.448739   \n",
       "std               2.570021      2.570021     13.415256     53.526500   \n",
       "min               1.000000      1.000000      0.000000      0.000000   \n",
       "25%               3.000000      3.000000    271.720000      0.000000   \n",
       "50%               5.000000      5.000000    280.150000      0.000000   \n",
       "75%               7.000000      7.000000    290.620000      0.000000   \n",
       "max               9.000000      9.000000    308.240000   9831.300000   \n",
       "\n",
       "           snow_p_h    clouds_all  traffic_volume  \n",
       "count  33750.000000  33750.000000    33750.000000  \n",
       "mean       0.000318     50.458785     3240.118163  \n",
       "std        0.009760     38.871734     1991.487289  \n",
       "min        0.000000      0.000000        0.000000  \n",
       "25%        0.000000      1.000000     1165.250000  \n",
       "50%        0.000000     64.000000     3335.000000  \n",
       "75%        0.000000     90.000000     4926.000000  \n",
       "max        0.510000    100.000000     7280.000000  "
      ]
     },
     "execution_count": 5,
     "metadata": {},
     "output_type": "execute_result"
    }
   ],
   "source": [
    "train_data.describe()"
   ]
  },
  {
   "cell_type": "code",
   "execution_count": 6,
   "metadata": {},
   "outputs": [],
   "source": [
    "week = test_data[\"date_time\"]"
   ]
  },
  {
   "cell_type": "code",
   "execution_count": 7,
   "metadata": {},
   "outputs": [],
   "source": [
    "# max(train_data[\"rain_p_h\"])  ## this is an outlier"
   ]
  },
  {
   "cell_type": "code",
   "execution_count": 8,
   "metadata": {},
   "outputs": [],
   "source": [
    "# train_data.loc[train_data[\"rain_p_h\"] == 9831.3]\n",
    "# train_data.loc[train_data[\"rain_p_h\"] == 9831.3].index"
   ]
  },
  {
   "cell_type": "code",
   "execution_count": 9,
   "metadata": {},
   "outputs": [],
   "source": [
    "## Drop a row\n",
    "# train_data = train_data.drop(train_data.index[24872])\n",
    "# train_data.shape"
   ]
  },
  {
   "cell_type": "code",
   "execution_count": 10,
   "metadata": {
    "scrolled": true
   },
   "outputs": [],
   "source": [
    "train_data[\"date_time\"] = pd.to_datetime(train_data[\"date_time\"], format = \"%Y%m%d %H:%M:%S\")\n",
    "train_data[\"date_time\"] = train_data[\"date_time\"].dt.day_name()\n",
    "\n",
    "test_data[\"date_time\"] = pd.to_datetime(test_data[\"date_time\"], format = \"%Y%m%d %H:%M:%S\")\n",
    "test_data[\"date_time\"] = test_data[\"date_time\"].dt.day_name()"
   ]
  },
  {
   "cell_type": "code",
   "execution_count": 11,
   "metadata": {},
   "outputs": [],
   "source": [
    "train_data[\"date_time\"] = train_data[\"date_time\"].astype(\"category\")\n",
    "train_data[\"is_holiday\"] = train_data[\"is_holiday\"].astype(\"category\")\n",
    "train_data[\"weather_type\"] = train_data[\"weather_type\"].astype(\"category\")\n",
    "train_data[\"weather_description\"] = train_data[\"weather_description\"].astype(\"category\")\n",
    "\n",
    "test_data[\"date_time\"] = test_data[\"date_time\"].astype(\"category\")\n",
    "test_data[\"is_holiday\"] = test_data[\"is_holiday\"].astype(\"category\")\n",
    "test_data[\"weather_type\"] = test_data[\"weather_type\"].astype(\"category\")\n",
    "test_data[\"weather_description\"] = test_data[\"weather_description\"].astype(\"category\")"
   ]
  },
  {
   "cell_type": "code",
   "execution_count": 12,
   "metadata": {},
   "outputs": [
    {
     "data": {
      "text/plain": [
       "date_time              0\n",
       "is_holiday             0\n",
       "air_pollution_index    0\n",
       "humidity               0\n",
       "wind_speed             0\n",
       "wind_direction         0\n",
       "visibility_in_miles    0\n",
       "dew_point              0\n",
       "temperature            0\n",
       "rain_p_h               0\n",
       "snow_p_h               0\n",
       "clouds_all             0\n",
       "weather_type           0\n",
       "weather_description    0\n",
       "dtype: int64"
      ]
     },
     "execution_count": 12,
     "metadata": {},
     "output_type": "execute_result"
    }
   ],
   "source": [
    "train_data.isnull().sum()\n",
    "test_data.isnull().sum()"
   ]
  },
  {
   "cell_type": "code",
   "execution_count": 13,
   "metadata": {},
   "outputs": [],
   "source": [
    "## Splitting numerical and categorical variables\n",
    "train_data_num = train_data.iloc[:, 2:12]\n",
    "test_data_num = test_data.iloc[:, 2:12]"
   ]
  },
  {
   "cell_type": "code",
   "execution_count": 14,
   "metadata": {},
   "outputs": [],
   "source": [
    "## Encoding categorical data\n",
    "from sklearn.preprocessing import LabelEncoder\n",
    "le = LabelEncoder()"
   ]
  },
  {
   "cell_type": "code",
   "execution_count": 15,
   "metadata": {},
   "outputs": [],
   "source": [
    "cat_var = [\"date_time\", \"is_holiday\", \"weather_type\", \"weather_description\"]\n",
    "train_data_cat = pd.DataFrame()\n",
    "test_data_cat = pd.DataFrame()\n",
    "for col in cat_var:\n",
    "    train_data_cat[col] = le.fit_transform(train_data[col])\n",
    "    test_data_cat[col] = le.transform(test_data[col])"
   ]
  },
  {
   "cell_type": "code",
   "execution_count": 16,
   "metadata": {},
   "outputs": [
    {
     "name": "stdout",
     "output_type": "stream",
     "text": [
      "(33750, 15) (33750, 4)\n",
      "(14454, 14) (14454, 4)\n"
     ]
    }
   ],
   "source": [
    "print(train_data.shape, train_data_cat.shape)\n",
    "print(test_data.shape, test_data_cat.shape)"
   ]
  },
  {
   "cell_type": "code",
   "execution_count": 17,
   "metadata": {},
   "outputs": [
    {
     "name": "stdout",
     "output_type": "stream",
     "text": [
      "['Friday' 'Monday' 'Saturday' 'Sunday' 'Thursday' 'Tuesday' 'Wednesday'] \n",
      " [0 1 2 3 4 5 6]\n",
      "['Christmas Day' 'Columbus Day' 'Independence Day' 'Labor Day'\n",
      " 'Martin Luther King Jr Day' 'Memorial Day' 'New Years Day' 'None'\n",
      " 'State Fair' 'Thanksgiving Day' 'Veterans Day' 'Washingtons Birthday'] \n",
      " [ 0  1  2  3  4  5  6  7  8  9 10 11]\n",
      "['Clear' 'Clouds' 'Drizzle' 'Fog' 'Haze' 'Mist' 'Rain' 'Smoke' 'Snow'\n",
      " 'Squall' 'Thunderstorm'] \n",
      " [ 0  1  2  3  4  5  6  7  8  9 10]\n",
      "['SQUALLS' 'Sky is Clear' 'broken clouds' 'drizzle' 'few clouds' 'fog'\n",
      " 'freezing rain' 'haze' 'heavy intensity drizzle' 'heavy intensity rain'\n",
      " 'heavy snow' 'light intensity drizzle' 'light intensity shower rain'\n",
      " 'light rain' 'light rain and snow' 'light shower snow' 'light snow'\n",
      " 'mist' 'moderate rain' 'overcast clouds' 'proximity shower rain'\n",
      " 'proximity thunderstorm' 'proximity thunderstorm with drizzle'\n",
      " 'proximity thunderstorm with rain' 'scattered clouds' 'shower drizzle'\n",
      " 'shower snow' 'sky is clear' 'sleet' 'smoke' 'snow' 'thunderstorm'\n",
      " 'thunderstorm with drizzle' 'thunderstorm with heavy rain'\n",
      " 'thunderstorm with light drizzle' 'thunderstorm with light rain'\n",
      " 'thunderstorm with rain' 'very heavy rain'] \n",
      " [ 0  1  2  3  4  5  6  7  8  9 10 11 12 13 14 15 16 17 18 19 20 21 22 23\n",
      " 24 25 26 27 28 29 30 31 32 33 34 35 36 37]\n"
     ]
    }
   ],
   "source": [
    "for i in [\"date_time\", \"is_holiday\", \"weather_type\", \"weather_description\"]:\n",
    "    print(np.unique(train_data[i]),\"\\n\", np.unique(train_data_cat[i]))"
   ]
  },
  {
   "cell_type": "code",
   "execution_count": 18,
   "metadata": {},
   "outputs": [
    {
     "name": "stdout",
     "output_type": "stream",
     "text": [
      "['Friday' 'Monday' 'Saturday' 'Sunday' 'Thursday' 'Tuesday' 'Wednesday'] \n",
      " [0 1 2 3 4 5 6]\n",
      "['Christmas Day' 'Columbus Day' 'Independence Day' 'Labor Day'\n",
      " 'Martin Luther King Jr Day' 'Memorial Day' 'New Years Day' 'None'\n",
      " 'State Fair' 'Thanksgiving Day' 'Veterans Day' 'Washingtons Birthday'] \n",
      " [ 0  1  2  3  4  5  6  7  8  9 10 11]\n",
      "['Clear' 'Clouds' 'Drizzle' 'Fog' 'Haze' 'Mist' 'Rain' 'Smoke' 'Snow'\n",
      " 'Thunderstorm'] \n",
      " [ 0  1  2  3  4  5  6  7  8 10]\n",
      "['Sky is Clear' 'broken clouds' 'drizzle' 'few clouds' 'fog' 'haze'\n",
      " 'heavy intensity drizzle' 'heavy intensity rain' 'heavy snow'\n",
      " 'light intensity drizzle' 'light intensity shower rain' 'light rain'\n",
      " 'light shower snow' 'light snow' 'mist' 'moderate rain' 'overcast clouds'\n",
      " 'proximity shower rain' 'proximity thunderstorm'\n",
      " 'proximity thunderstorm with drizzle' 'proximity thunderstorm with rain'\n",
      " 'scattered clouds' 'shower drizzle' 'sky is clear' 'sleet' 'smoke' 'snow'\n",
      " 'thunderstorm' 'thunderstorm with heavy rain'\n",
      " 'thunderstorm with light drizzle' 'thunderstorm with light rain'\n",
      " 'thunderstorm with rain'] \n",
      " [ 1  2  3  4  5  7  8  9 10 11 12 13 15 16 17 18 19 20 21 22 23 24 25 27\n",
      " 28 29 30 31 33 34 35 36]\n"
     ]
    }
   ],
   "source": [
    "for i in [\"date_time\", \"is_holiday\", \"weather_type\", \"weather_description\"]:\n",
    "    print(np.unique(test_data[i]),\"\\n\", np.unique(test_data_cat[i]))"
   ]
  },
  {
   "cell_type": "code",
   "execution_count": 19,
   "metadata": {},
   "outputs": [
    {
     "name": "stdout",
     "output_type": "stream",
     "text": [
      "(33750, 10)\n",
      "(33750, 4)\n"
     ]
    }
   ],
   "source": [
    "print(train_data_num.shape)\n",
    "print(train_data_cat.shape)"
   ]
  },
  {
   "cell_type": "code",
   "execution_count": 20,
   "metadata": {},
   "outputs": [],
   "source": [
    "## Add numerical and categorical data\n",
    "train = pd.concat([train_data_num, train_data_cat], axis = 1)\n",
    "test = pd.concat([test_data_num, test_data_cat], axis = 1)"
   ]
  },
  {
   "cell_type": "code",
   "execution_count": 21,
   "metadata": {},
   "outputs": [
    {
     "name": "stdout",
     "output_type": "stream",
     "text": [
      "(33750, 14)\n",
      "(14454, 14)\n"
     ]
    }
   ],
   "source": [
    "print(train.shape)\n",
    "print(test.shape)"
   ]
  },
  {
   "cell_type": "code",
   "execution_count": 22,
   "metadata": {},
   "outputs": [
    {
     "name": "stdout",
     "output_type": "stream",
     "text": [
      "9831.3\n",
      "Int64Index([24872], dtype='int64')\n"
     ]
    }
   ],
   "source": [
    "print(max(train[\"rain_p_h\"]))\n",
    "print(train.loc[train[\"rain_p_h\"] == 9831.3].index)\n",
    "# ## Drop that row in train data\n",
    "train = train.drop(train.index[24872])\n"
   ]
  },
  {
   "cell_type": "code",
   "execution_count": 23,
   "metadata": {},
   "outputs": [],
   "source": [
    "X = train\n",
    "y = train_data[\"traffic_volume\"]"
   ]
  },
  {
   "cell_type": "code",
   "execution_count": 24,
   "metadata": {},
   "outputs": [],
   "source": [
    "# ## Drop the same index 24872 in target also\n",
    "y = y.drop(y.index[24872])\n",
    "y = y.values"
   ]
  },
  {
   "cell_type": "code",
   "execution_count": 25,
   "metadata": {},
   "outputs": [
    {
     "name": "stdout",
     "output_type": "stream",
     "text": [
      "(33749, 14)\n",
      "(33749,)\n"
     ]
    }
   ],
   "source": [
    "print(X.shape)\n",
    "print(y.shape)"
   ]
  },
  {
   "cell_type": "code",
   "execution_count": 26,
   "metadata": {},
   "outputs": [
    {
     "data": {
      "text/plain": [
       "RandomForestRegressor(bootstrap=True, criterion='mse', max_depth=None,\n",
       "           max_features='auto', max_leaf_nodes=None,\n",
       "           min_impurity_decrease=0.0, min_impurity_split=None,\n",
       "           min_samples_leaf=1, min_samples_split=2,\n",
       "           min_weight_fraction_leaf=0.0, n_estimators=1000, n_jobs=1,\n",
       "           oob_score=False, random_state=0, verbose=0, warm_start=False)"
      ]
     },
     "execution_count": 26,
     "metadata": {},
     "output_type": "execute_result"
    }
   ],
   "source": [
    "## Fitting Random Forest regression to the dataset\n",
    "from sklearn.ensemble import RandomForestRegressor\n",
    "regressor = RandomForestRegressor(n_estimators= 1000, random_state = 0)\n",
    "regressor.fit(X, y)"
   ]
  },
  {
   "cell_type": "code",
   "execution_count": 27,
   "metadata": {},
   "outputs": [],
   "source": [
    "y_pred = regressor.predict(X)\n",
    "# print(y_pred)    ## predicted salaries\n",
    "# print(y)"
   ]
  },
  {
   "cell_type": "code",
   "execution_count": 28,
   "metadata": {},
   "outputs": [],
   "source": [
    "predict = regressor.predict(test)\n",
    "predict = predict.astype('int32')"
   ]
  },
  {
   "cell_type": "code",
   "execution_count": 29,
   "metadata": {},
   "outputs": [],
   "source": [
    "final = pd.DataFrame({\"date_time\":week, 'traffic_volume':predict})"
   ]
  },
  {
   "cell_type": "code",
   "execution_count": 30,
   "metadata": {},
   "outputs": [],
   "source": [
    "final.to_csv(\"submission_7.csv\", index = False)"
   ]
  },
  {
   "cell_type": "code",
   "execution_count": null,
   "metadata": {},
   "outputs": [],
   "source": []
  },
  {
   "cell_type": "code",
   "execution_count": null,
   "metadata": {},
   "outputs": [],
   "source": []
  },
  {
   "cell_type": "code",
   "execution_count": null,
   "metadata": {},
   "outputs": [],
   "source": []
  }
 ],
 "metadata": {
  "kernelspec": {
   "display_name": "Python 3",
   "language": "python",
   "name": "python3"
  },
  "language_info": {
   "codemirror_mode": {
    "name": "ipython",
    "version": 3
   },
   "file_extension": ".py",
   "mimetype": "text/x-python",
   "name": "python",
   "nbconvert_exporter": "python",
   "pygments_lexer": "ipython3",
   "version": "3.6.5"
  }
 },
 "nbformat": 4,
 "nbformat_minor": 2
}
