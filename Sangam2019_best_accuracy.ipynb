{
  "nbformat": 4,
  "nbformat_minor": 0,
  "metadata": {
    "colab": {
      "name": "Sangam2019 - best accuracy.ipynb",
      "version": "0.3.2",
      "provenance": [],
      "collapsed_sections": [],
      "include_colab_link": true
    },
    "kernelspec": {
      "name": "python3",
      "display_name": "Python 3"
    },
    "accelerator": "GPU"
  },
  "cells": [
    {
      "cell_type": "markdown",
      "metadata": {
        "id": "view-in-github",
        "colab_type": "text"
      },
      "source": [
        "<a href=\"https://colab.research.google.com/github/vivandsouza/IIIT-Madram-Sangam-Hackathon/blob/master/Sangam2019_best_accuracy.ipynb\" target=\"_parent\"><img src=\"https://colab.research.google.com/assets/colab-badge.svg\" alt=\"Open In Colab\"/></a>"
      ]
    },
    {
      "cell_type": "code",
      "metadata": {
        "id": "fkil_5_cr3n1",
        "colab_type": "code",
        "outputId": "2a73625f-0d4c-4173-915e-b926a60b04f4",
        "colab": {
          "base_uri": "https://localhost:8080/",
          "height": 34
        }
      },
      "source": [
        "import tensorflow as tf\n",
        "device_name = tf.test.gpu_device_name()\n",
        "if device_name != '/device:GPU:0':\n",
        "  raise SystemError('GPU device not found')\n",
        "print('Found GPU at: {}'.format(device_name))"
      ],
      "execution_count": 0,
      "outputs": [
        {
          "output_type": "stream",
          "text": [
            "Found GPU at: /device:GPU:0\n"
          ],
          "name": "stdout"
        }
      ]
    },
    {
      "cell_type": "code",
      "metadata": {
        "id": "Yi8gRRIqsMAi",
        "colab_type": "code",
        "colab": {}
      },
      "source": [
        "from google.colab import files\n",
        "import requests\n",
        "\n",
        "def download_file_from_google_drive(id, destination):\n",
        "   URL = \"https://docs.google.com/uc?export=download\"\n",
        "\n",
        "   session = requests.Session()\n",
        "\n",
        "   response = session.get(URL, params = { 'id' : id }, stream = True)\n",
        "   token = get_confirm_token(response)\n",
        "\n",
        "   if token:\n",
        "           params = { 'id' : id, 'confirm' : token }\n",
        "           response = session.get(URL, params = params, stream = True)\n",
        "\n",
        "   save_response_content(response, destination)\n",
        "\n",
        "def get_confirm_token(response):\n",
        "   for key, value in response.cookies.items():\n",
        "           if key.startswith('download_warning'):\n",
        "               return value\n",
        "\n",
        "   return None\n",
        "\n",
        "def save_response_content(response, destination):\n",
        "   CHUNK_SIZE = 32768\n",
        "\n",
        "   with open(destination, \"wb\") as f:\n",
        "     for chunk in response.iter_content(CHUNK_SIZE):\n",
        "       if chunk: # filter out keep-alive new chunks\n",
        "         f.write(chunk)\n",
        "file_id = '1df7g1HOR0sCKnUxmee270Z-DH_MS6eyb'\n",
        "destination = 'Train.csv'\n",
        "download_file_from_google_drive(file_id, destination)\n",
        "\n",
        "file_id = '1uvA4ta4yiREvD58MpkwwWkLoyzt1wa2M'\n",
        "destination = 'Test.csv'\n",
        "\n",
        "download_file_from_google_drive(file_id, destination)"
      ],
      "execution_count": 0,
      "outputs": []
    },
    {
      "cell_type": "code",
      "metadata": {
        "id": "1h5GWi_LsMOy",
        "colab_type": "code",
        "colab": {}
      },
      "source": [
        "import pandas as pd\n",
        "import numpy as np"
      ],
      "execution_count": 0,
      "outputs": []
    },
    {
      "cell_type": "code",
      "metadata": {
        "id": "M6RCFNxzsMR7",
        "colab_type": "code",
        "colab": {}
      },
      "source": [
        "train_data = pd.read_csv(\"Train.csv\")\n",
        "test_data = pd.read_csv(\"Test.csv\")"
      ],
      "execution_count": 0,
      "outputs": []
    },
    {
      "cell_type": "code",
      "metadata": {
        "id": "r9Asmx4tsMUo",
        "colab_type": "code",
        "outputId": "00d69681-82fc-41be-87f8-0f9e2099c6a5",
        "colab": {
          "base_uri": "https://localhost:8080/",
          "height": 52
        }
      },
      "source": [
        "print(train_data.shape)\n",
        "print(test_data.shape)"
      ],
      "execution_count": 0,
      "outputs": [
        {
          "output_type": "stream",
          "text": [
            "(33750, 15)\n",
            "(14454, 14)\n"
          ],
          "name": "stdout"
        }
      ]
    },
    {
      "cell_type": "code",
      "metadata": {
        "id": "as-jBwI4x56N",
        "colab_type": "code",
        "colab": {}
      },
      "source": [
        "week = test_data[\"date_time\"]"
      ],
      "execution_count": 0,
      "outputs": []
    },
    {
      "cell_type": "code",
      "metadata": {
        "id": "gRuw9O2xx6J5",
        "colab_type": "code",
        "colab": {}
      },
      "source": [
        "train_data[\"date_time\"] = pd.to_datetime(train_data[\"date_time\"], format = \"%Y%m%d %H:%M:%S\")\n",
        "train_data[\"date_time\"] = train_data[\"date_time\"].dt.day_name()\n",
        "\n",
        "test_data[\"date_time\"] = pd.to_datetime(test_data[\"date_time\"], format = \"%Y%m%d %H:%M:%S\")\n",
        "test_data[\"date_time\"] = test_data[\"date_time\"].dt.day_name()"
      ],
      "execution_count": 0,
      "outputs": []
    },
    {
      "cell_type": "code",
      "metadata": {
        "id": "NPSuW0bJx6Qt",
        "colab_type": "code",
        "colab": {}
      },
      "source": [
        "train_data[\"date_time\"] = train_data[\"date_time\"].astype(\"category\")\n",
        "train_data[\"is_holiday\"] = train_data[\"is_holiday\"].astype(\"category\")\n",
        "train_data[\"weather_type\"] = train_data[\"weather_type\"].astype(\"category\")\n",
        "train_data[\"weather_description\"] = train_data[\"weather_description\"].astype(\"category\")\n",
        "\n",
        "test_data[\"date_time\"] = test_data[\"date_time\"].astype(\"category\")\n",
        "test_data[\"is_holiday\"] = test_data[\"is_holiday\"].astype(\"category\")\n",
        "test_data[\"weather_type\"] = test_data[\"weather_type\"].astype(\"category\")\n",
        "test_data[\"weather_description\"] = test_data[\"weather_description\"].astype(\"category\")"
      ],
      "execution_count": 0,
      "outputs": []
    },
    {
      "cell_type": "code",
      "metadata": {
        "id": "FZ1qlq5yx6M1",
        "colab_type": "code",
        "colab": {}
      },
      "source": [
        "## Splitting numerical and categorical variables\n",
        "train_data_num = train_data.iloc[:, 2:12]\n",
        "test_data_num = test_data.iloc[:, 2:12]"
      ],
      "execution_count": 0,
      "outputs": []
    },
    {
      "cell_type": "code",
      "metadata": {
        "id": "Ycva-Q6Px6HG",
        "colab_type": "code",
        "colab": {}
      },
      "source": [
        "## Encoding categorical data\n",
        "from sklearn.preprocessing import LabelEncoder\n",
        "le = LabelEncoder()"
      ],
      "execution_count": 0,
      "outputs": []
    },
    {
      "cell_type": "code",
      "metadata": {
        "id": "72Gmr9B1x53R",
        "colab_type": "code",
        "colab": {}
      },
      "source": [
        "cat_var = [\"date_time\", \"is_holiday\", \"weather_type\", \"weather_description\"]\n",
        "train_data_cat = pd.DataFrame()\n",
        "test_data_cat = pd.DataFrame()\n",
        "for col in cat_var:\n",
        "    train_data_cat[col] = le.fit_transform(train_data[col])\n",
        "    test_data_cat[col] = le.transform(test_data[col])"
      ],
      "execution_count": 0,
      "outputs": []
    },
    {
      "cell_type": "code",
      "metadata": {
        "id": "7-9dbki-sMX8",
        "colab_type": "code",
        "outputId": "43c787c0-6f45-412c-8bdf-a01a48bce294",
        "colab": {
          "base_uri": "https://localhost:8080/",
          "height": 52
        }
      },
      "source": [
        "print(train_data.shape, train_data_cat.shape)\n",
        "print(test_data.shape, test_data_cat.shape)"
      ],
      "execution_count": 0,
      "outputs": [
        {
          "output_type": "stream",
          "text": [
            "(33750, 15) (33750, 4)\n",
            "(14454, 14) (14454, 4)\n"
          ],
          "name": "stdout"
        }
      ]
    },
    {
      "cell_type": "code",
      "metadata": {
        "id": "vZZmECdryPDS",
        "colab_type": "code",
        "outputId": "be6dfd15-cc77-40c4-c9ba-37ee89db362e",
        "colab": {
          "base_uri": "https://localhost:8080/",
          "height": 404
        }
      },
      "source": [
        "for i in [\"date_time\", \"is_holiday\", \"weather_type\", \"weather_description\"]:\n",
        "    print(np.unique(train_data[i]),\"\\n\", np.unique(train_data_cat[i]))"
      ],
      "execution_count": 0,
      "outputs": [
        {
          "output_type": "stream",
          "text": [
            "['Friday' 'Monday' 'Saturday' 'Sunday' 'Thursday' 'Tuesday' 'Wednesday'] \n",
            " [0 1 2 3 4 5 6]\n",
            "['Christmas Day' 'Columbus Day' 'Independence Day' 'Labor Day'\n",
            " 'Martin Luther King Jr Day' 'Memorial Day' 'New Years Day' 'None'\n",
            " 'State Fair' 'Thanksgiving Day' 'Veterans Day' 'Washingtons Birthday'] \n",
            " [ 0  1  2  3  4  5  6  7  8  9 10 11]\n",
            "['Clear' 'Clouds' 'Drizzle' 'Fog' 'Haze' 'Mist' 'Rain' 'Smoke' 'Snow'\n",
            " 'Squall' 'Thunderstorm'] \n",
            " [ 0  1  2  3  4  5  6  7  8  9 10]\n",
            "['SQUALLS' 'Sky is Clear' 'broken clouds' 'drizzle' 'few clouds' 'fog'\n",
            " 'freezing rain' 'haze' 'heavy intensity drizzle' 'heavy intensity rain'\n",
            " 'heavy snow' 'light intensity drizzle' 'light intensity shower rain'\n",
            " 'light rain' 'light rain and snow' 'light shower snow' 'light snow'\n",
            " 'mist' 'moderate rain' 'overcast clouds' 'proximity shower rain'\n",
            " 'proximity thunderstorm' 'proximity thunderstorm with drizzle'\n",
            " 'proximity thunderstorm with rain' 'scattered clouds' 'shower drizzle'\n",
            " 'shower snow' 'sky is clear' 'sleet' 'smoke' 'snow' 'thunderstorm'\n",
            " 'thunderstorm with drizzle' 'thunderstorm with heavy rain'\n",
            " 'thunderstorm with light drizzle' 'thunderstorm with light rain'\n",
            " 'thunderstorm with rain' 'very heavy rain'] \n",
            " [ 0  1  2  3  4  5  6  7  8  9 10 11 12 13 14 15 16 17 18 19 20 21 22 23\n",
            " 24 25 26 27 28 29 30 31 32 33 34 35 36 37]\n"
          ],
          "name": "stdout"
        }
      ]
    },
    {
      "cell_type": "code",
      "metadata": {
        "id": "5pH8EjHryPI9",
        "colab_type": "code",
        "outputId": "09c46d95-adc4-4e89-e3d3-7e6d99e8942d",
        "colab": {
          "base_uri": "https://localhost:8080/",
          "height": 386
        }
      },
      "source": [
        "for i in [\"date_time\", \"is_holiday\", \"weather_type\", \"weather_description\"]:\n",
        "    print(np.unique(test_data[i]),\"\\n\", np.unique(test_data_cat[i]))"
      ],
      "execution_count": 0,
      "outputs": [
        {
          "output_type": "stream",
          "text": [
            "['Friday' 'Monday' 'Saturday' 'Sunday' 'Thursday' 'Tuesday' 'Wednesday'] \n",
            " [0 1 2 3 4 5 6]\n",
            "['Christmas Day' 'Columbus Day' 'Independence Day' 'Labor Day'\n",
            " 'Martin Luther King Jr Day' 'Memorial Day' 'New Years Day' 'None'\n",
            " 'State Fair' 'Thanksgiving Day' 'Veterans Day' 'Washingtons Birthday'] \n",
            " [ 0  1  2  3  4  5  6  7  8  9 10 11]\n",
            "['Clear' 'Clouds' 'Drizzle' 'Fog' 'Haze' 'Mist' 'Rain' 'Smoke' 'Snow'\n",
            " 'Thunderstorm'] \n",
            " [ 0  1  2  3  4  5  6  7  8 10]\n",
            "['Sky is Clear' 'broken clouds' 'drizzle' 'few clouds' 'fog' 'haze'\n",
            " 'heavy intensity drizzle' 'heavy intensity rain' 'heavy snow'\n",
            " 'light intensity drizzle' 'light intensity shower rain' 'light rain'\n",
            " 'light shower snow' 'light snow' 'mist' 'moderate rain' 'overcast clouds'\n",
            " 'proximity shower rain' 'proximity thunderstorm'\n",
            " 'proximity thunderstorm with drizzle' 'proximity thunderstorm with rain'\n",
            " 'scattered clouds' 'shower drizzle' 'sky is clear' 'sleet' 'smoke' 'snow'\n",
            " 'thunderstorm' 'thunderstorm with heavy rain'\n",
            " 'thunderstorm with light drizzle' 'thunderstorm with light rain'\n",
            " 'thunderstorm with rain'] \n",
            " [ 1  2  3  4  5  7  8  9 10 11 12 13 15 16 17 18 19 20 21 22 23 24 25 27\n",
            " 28 29 30 31 33 34 35 36]\n"
          ],
          "name": "stdout"
        }
      ]
    },
    {
      "cell_type": "code",
      "metadata": {
        "id": "op14xm9myPLz",
        "colab_type": "code",
        "outputId": "ae20b80f-7008-457e-9aae-efd61698f517",
        "colab": {
          "base_uri": "https://localhost:8080/",
          "height": 52
        }
      },
      "source": [
        "print(train_data_num.shape)\n",
        "print(train_data_cat.shape)"
      ],
      "execution_count": 0,
      "outputs": [
        {
          "output_type": "stream",
          "text": [
            "(33750, 10)\n",
            "(33750, 4)\n"
          ],
          "name": "stdout"
        }
      ]
    },
    {
      "cell_type": "code",
      "metadata": {
        "id": "yQqU5yNoyPPT",
        "colab_type": "code",
        "colab": {}
      },
      "source": [
        "## Add numerical and categorical data\n",
        "train = pd.concat([train_data_num, train_data_cat], axis = 1)\n",
        "test = pd.concat([test_data_num, test_data_cat], axis = 1)"
      ],
      "execution_count": 0,
      "outputs": []
    },
    {
      "cell_type": "code",
      "metadata": {
        "id": "Cv0dYCE_yPUl",
        "colab_type": "code",
        "outputId": "c49afc12-7aa5-4aba-c224-c0b9f6a1c173",
        "colab": {
          "base_uri": "https://localhost:8080/",
          "height": 52
        }
      },
      "source": [
        "print(train.shape)\n",
        "print(test.shape)"
      ],
      "execution_count": 0,
      "outputs": [
        {
          "output_type": "stream",
          "text": [
            "(33750, 14)\n",
            "(14454, 14)\n"
          ],
          "name": "stdout"
        }
      ]
    },
    {
      "cell_type": "code",
      "metadata": {
        "id": "0AMVQEbNyPXb",
        "colab_type": "code",
        "outputId": "fa29fe70-6f7b-4005-ec9e-4c78019e1953",
        "colab": {
          "base_uri": "https://localhost:8080/",
          "height": 52
        }
      },
      "source": [
        "print(max(train[\"rain_p_h\"]))\n",
        "print(train.loc[train[\"rain_p_h\"] == 9831.3].index)\n",
        "# ## Drop that row in train data\n",
        "train = train.drop(train.index[24872])"
      ],
      "execution_count": 0,
      "outputs": [
        {
          "output_type": "stream",
          "text": [
            "9831.3\n",
            "Int64Index([24872], dtype='int64')\n"
          ],
          "name": "stdout"
        }
      ]
    },
    {
      "cell_type": "code",
      "metadata": {
        "id": "_uOb_PW7yPa1",
        "colab_type": "code",
        "colab": {}
      },
      "source": [
        "X = train\n",
        "y = train_data[\"traffic_volume\"]"
      ],
      "execution_count": 0,
      "outputs": []
    },
    {
      "cell_type": "code",
      "metadata": {
        "id": "yRqOJE3EykEK",
        "colab_type": "code",
        "colab": {}
      },
      "source": [
        "# ## Drop the same index 24872 in target also\n",
        "y = y.drop(y.index[24872])\n",
        "y = y.values"
      ],
      "execution_count": 0,
      "outputs": []
    },
    {
      "cell_type": "code",
      "metadata": {
        "id": "2W8d0G8qykHA",
        "colab_type": "code",
        "outputId": "cb619151-5905-4231-f90f-63ab57b20c63",
        "colab": {
          "base_uri": "https://localhost:8080/",
          "height": 52
        }
      },
      "source": [
        "print(X.shape)\n",
        "print(y.shape)"
      ],
      "execution_count": 0,
      "outputs": [
        {
          "output_type": "stream",
          "text": [
            "(33749, 14)\n",
            "(33749,)\n"
          ],
          "name": "stdout"
        }
      ]
    },
    {
      "cell_type": "code",
      "metadata": {
        "id": "PCpqQKstykKk",
        "colab_type": "code",
        "colab": {}
      },
      "source": [
        "## Splitting the dataset into train and test\n",
        "from sklearn.model_selection import train_test_split\n",
        "X_train, X_test, y_train, y_test = train_test_split(X, y, test_size = 0.2, random_state = 0)"
      ],
      "execution_count": 0,
      "outputs": []
    },
    {
      "cell_type": "code",
      "metadata": {
        "id": "5daQxDA-1-AC",
        "colab_type": "code",
        "outputId": "085fc99c-03d5-45fe-9080-426bc8f166a2",
        "colab": {
          "base_uri": "https://localhost:8080/",
          "height": 34
        }
      },
      "source": [
        "y_train"
      ],
      "execution_count": 0,
      "outputs": [
        {
          "output_type": "execute_result",
          "data": {
            "text/plain": [
              "array([ 826, 4894, 5882, ...,  529, 5858,  248])"
            ]
          },
          "metadata": {
            "tags": []
          },
          "execution_count": 23
        }
      ]
    },
    {
      "cell_type": "code",
      "metadata": {
        "id": "sif2HM_JykNr",
        "colab_type": "code",
        "colab": {}
      },
      "source": [
        "## Feature scaling (Standardization)\n",
        "from sklearn.preprocessing import StandardScaler\n",
        "sc = StandardScaler()\n",
        "X_train = sc.fit_transform(X_train)\n",
        "X_test = sc.transform(X_test)\n",
        "test = sc.transform(test)"
      ],
      "execution_count": 0,
      "outputs": []
    },
    {
      "cell_type": "code",
      "metadata": {
        "id": "oExK4wWfykQL",
        "colab_type": "code",
        "outputId": "900b0be4-b507-495c-ac12-cc35c60ed1b9",
        "colab": {
          "base_uri": "https://localhost:8080/",
          "height": 34
        }
      },
      "source": [
        "from keras.models import Sequential\n",
        "from keras.layers import Dense, Activation, Flatten, Add\n",
        "from keras.layers import Convolution2D, MaxPooling2D\n",
        "from keras.utils import np_utils\n",
        "from keras.layers import Activation"
      ],
      "execution_count": 0,
      "outputs": [
        {
          "output_type": "stream",
          "text": [
            "Using TensorFlow backend.\n"
          ],
          "name": "stderr"
        }
      ]
    },
    {
      "cell_type": "code",
      "metadata": {
        "id": "5i0Gb128ykS6",
        "colab_type": "code",
        "outputId": "25643f8c-9b33-402c-f66c-bd22877cf84b",
        "colab": {
          "base_uri": "https://localhost:8080/",
          "height": 160
        }
      },
      "source": [
        "NN_model = Sequential()\n",
        "# The Input Layer :\n",
        "NN_model.add(Dense(128, kernel_initializer='normal',input_dim = 14, activation='relu'))\n",
        "# The Hidden Layers :\n",
        "NN_model.add(Dense(256, kernel_initializer='normal',activation='relu'))\n",
        "NN_model.add(Dense(256, kernel_initializer='normal',activation='relu'))\n",
        "NN_model.add(Dense(256, kernel_initializer='normal',activation='relu'))\n",
        "# The Output Layer :\n",
        "NN_model.add(Dense(1, kernel_initializer='normal',activation='linear'))"
      ],
      "execution_count": 0,
      "outputs": [
        {
          "output_type": "stream",
          "text": [
            "WARNING: Logging before flag parsing goes to stderr.\n",
            "W0802 11:55:52.380027 139951705397120 deprecation_wrapper.py:119] From /usr/local/lib/python3.6/dist-packages/keras/backend/tensorflow_backend.py:74: The name tf.get_default_graph is deprecated. Please use tf.compat.v1.get_default_graph instead.\n",
            "\n",
            "W0802 11:55:52.386497 139951705397120 deprecation_wrapper.py:119] From /usr/local/lib/python3.6/dist-packages/keras/backend/tensorflow_backend.py:517: The name tf.placeholder is deprecated. Please use tf.compat.v1.placeholder instead.\n",
            "\n",
            "W0802 11:55:52.395265 139951705397120 deprecation_wrapper.py:119] From /usr/local/lib/python3.6/dist-packages/keras/backend/tensorflow_backend.py:4115: The name tf.random_normal is deprecated. Please use tf.random.normal instead.\n",
            "\n"
          ],
          "name": "stderr"
        }
      ]
    },
    {
      "cell_type": "code",
      "metadata": {
        "id": "Ga2qUn_9ykWA",
        "colab_type": "code",
        "outputId": "41728737-2297-4d57-e932-60e413f27caf",
        "colab": {
          "base_uri": "https://localhost:8080/",
          "height": 72
        }
      },
      "source": [
        "NN_model.compile(loss='mean_absolute_error', optimizer='adam', metrics=['mean_absolute_error'])"
      ],
      "execution_count": 0,
      "outputs": [
        {
          "output_type": "stream",
          "text": [
            "W0802 11:55:52.477131 139951705397120 deprecation_wrapper.py:119] From /usr/local/lib/python3.6/dist-packages/keras/optimizers.py:790: The name tf.train.Optimizer is deprecated. Please use tf.compat.v1.train.Optimizer instead.\n",
            "\n"
          ],
          "name": "stderr"
        }
      ]
    },
    {
      "cell_type": "code",
      "metadata": {
        "id": "HEl9uLo2ykBM",
        "colab_type": "code",
        "outputId": "79dd1da7-40c5-4658-a00c-1e5402ff62dd",
        "colab": {
          "base_uri": "https://localhost:8080/",
          "height": 316
        }
      },
      "source": [
        "NN_model.summary()"
      ],
      "execution_count": 0,
      "outputs": [
        {
          "output_type": "stream",
          "text": [
            "_________________________________________________________________\n",
            "Layer (type)                 Output Shape              Param #   \n",
            "=================================================================\n",
            "dense_1 (Dense)              (None, 128)               1920      \n",
            "_________________________________________________________________\n",
            "dense_2 (Dense)              (None, 256)               33024     \n",
            "_________________________________________________________________\n",
            "dense_3 (Dense)              (None, 256)               65792     \n",
            "_________________________________________________________________\n",
            "dense_4 (Dense)              (None, 256)               65792     \n",
            "_________________________________________________________________\n",
            "dense_5 (Dense)              (None, 1)                 257       \n",
            "=================================================================\n",
            "Total params: 166,785\n",
            "Trainable params: 166,785\n",
            "Non-trainable params: 0\n",
            "_________________________________________________________________\n"
          ],
          "name": "stdout"
        }
      ]
    },
    {
      "cell_type": "code",
      "metadata": {
        "id": "wEapqQNDyPH7",
        "colab_type": "code",
        "outputId": "e8f4fac2-0156-4215-ad89-8fbe2f8a77ed",
        "colab": {
          "base_uri": "https://localhost:8080/",
          "height": 864
        }
      },
      "source": [
        "NN_model.fit(X_train, y_train, batch_size=32, nb_epoch=20, verbose=1)"
      ],
      "execution_count": 0,
      "outputs": [
        {
          "output_type": "stream",
          "text": [
            "/usr/local/lib/python3.6/dist-packages/ipykernel_launcher.py:1: UserWarning: The `nb_epoch` argument in `fit` has been renamed `epochs`.\n",
            "  \"\"\"Entry point for launching an IPython kernel.\n",
            "W0802 11:55:52.699289 139951705397120 deprecation_wrapper.py:119] From /usr/local/lib/python3.6/dist-packages/keras/backend/tensorflow_backend.py:986: The name tf.assign_add is deprecated. Please use tf.compat.v1.assign_add instead.\n",
            "\n",
            "W0802 11:55:52.869379 139951705397120 deprecation_wrapper.py:119] From /usr/local/lib/python3.6/dist-packages/keras/backend/tensorflow_backend.py:973: The name tf.assign is deprecated. Please use tf.compat.v1.assign instead.\n",
            "\n"
          ],
          "name": "stderr"
        },
        {
          "output_type": "stream",
          "text": [
            "Epoch 1/20\n",
            "26999/26999 [==============================] - 5s 199us/step - loss: 1782.8255 - mean_absolute_error: 1782.8255\n",
            "Epoch 2/20\n",
            "26999/26999 [==============================] - 5s 168us/step - loss: 1673.9560 - mean_absolute_error: 1673.9560\n",
            "Epoch 3/20\n",
            "26999/26999 [==============================] - 4s 167us/step - loss: 1662.2850 - mean_absolute_error: 1662.2850\n",
            "Epoch 4/20\n",
            "26999/26999 [==============================] - 4s 161us/step - loss: 1660.0239 - mean_absolute_error: 1660.0239\n",
            "Epoch 5/20\n",
            "26999/26999 [==============================] - 4s 162us/step - loss: 1654.0824 - mean_absolute_error: 1654.0824\n",
            "Epoch 6/20\n",
            "26999/26999 [==============================] - 4s 161us/step - loss: 1650.9347 - mean_absolute_error: 1650.9347\n",
            "Epoch 7/20\n",
            "26999/26999 [==============================] - 4s 162us/step - loss: 1647.9628 - mean_absolute_error: 1647.9628\n",
            "Epoch 8/20\n",
            "26999/26999 [==============================] - 4s 162us/step - loss: 1644.9591 - mean_absolute_error: 1644.9591\n",
            "Epoch 9/20\n",
            "26999/26999 [==============================] - 4s 161us/step - loss: 1636.5333 - mean_absolute_error: 1636.5333\n",
            "Epoch 10/20\n",
            "26999/26999 [==============================] - 4s 161us/step - loss: 1639.6157 - mean_absolute_error: 1639.6157\n",
            "Epoch 11/20\n",
            "26999/26999 [==============================] - 4s 161us/step - loss: 1631.8156 - mean_absolute_error: 1631.8156\n",
            "Epoch 12/20\n",
            "26999/26999 [==============================] - 4s 161us/step - loss: 1628.8576 - mean_absolute_error: 1628.8576\n",
            "Epoch 13/20\n",
            "26999/26999 [==============================] - 4s 161us/step - loss: 1624.5862 - mean_absolute_error: 1624.5862\n",
            "Epoch 14/20\n",
            "26999/26999 [==============================] - 4s 161us/step - loss: 1616.3821 - mean_absolute_error: 1616.3821\n",
            "Epoch 15/20\n",
            "26999/26999 [==============================] - 4s 163us/step - loss: 1616.7036 - mean_absolute_error: 1616.7036\n",
            "Epoch 16/20\n",
            "26999/26999 [==============================] - 4s 160us/step - loss: 1611.8067 - mean_absolute_error: 1611.8067\n",
            "Epoch 17/20\n",
            "26999/26999 [==============================] - 4s 161us/step - loss: 1604.5961 - mean_absolute_error: 1604.5961\n",
            "Epoch 18/20\n",
            "26999/26999 [==============================] - 4s 160us/step - loss: 1600.1458 - mean_absolute_error: 1600.1458\n",
            "Epoch 19/20\n",
            "26999/26999 [==============================] - 4s 161us/step - loss: 1599.7611 - mean_absolute_error: 1599.7611\n",
            "Epoch 20/20\n",
            "26999/26999 [==============================] - 4s 161us/step - loss: 1595.1357 - mean_absolute_error: 1595.1357\n"
          ],
          "name": "stdout"
        },
        {
          "output_type": "execute_result",
          "data": {
            "text/plain": [
              "<keras.callbacks.History at 0x7f486f710cc0>"
            ]
          },
          "metadata": {
            "tags": []
          },
          "execution_count": 29
        }
      ]
    },
    {
      "cell_type": "code",
      "metadata": {
        "id": "afZbQ3s_0Knq",
        "colab_type": "code",
        "colab": {}
      },
      "source": [
        "test_pred = NN_model.predict(test)"
      ],
      "execution_count": 0,
      "outputs": []
    },
    {
      "cell_type": "code",
      "metadata": {
        "id": "0eMghle30Khm",
        "colab_type": "code",
        "colab": {}
      },
      "source": [
        "test_pred = test_pred.astype(\"int32\")"
      ],
      "execution_count": 0,
      "outputs": []
    },
    {
      "cell_type": "code",
      "metadata": {
        "id": "jlavqQU1DIFL",
        "colab_type": "code",
        "colab": {}
      },
      "source": [
        "temp_list = []\n",
        "for i in range(len(test_pred)):\n",
        "  for j in range(len(test_pred[i])):\n",
        "    temp_list.append(test_pred[i][j])"
      ],
      "execution_count": 0,
      "outputs": []
    },
    {
      "cell_type": "code",
      "metadata": {
        "id": "GJNuuYlmD6nz",
        "colab_type": "code",
        "colab": {}
      },
      "source": [
        "final = pd.DataFrame(week)\n",
        "final[\"traffic_volume\"] = temp_list"
      ],
      "execution_count": 0,
      "outputs": []
    },
    {
      "cell_type": "code",
      "metadata": {
        "id": "wLcKk9tzCjcS",
        "colab_type": "code",
        "colab": {}
      },
      "source": [
        "final.to_csv(\"submission_9.csv\", index = False)"
      ],
      "execution_count": 0,
      "outputs": []
    },
    {
      "cell_type": "code",
      "metadata": {
        "id": "oZA89ifvEDL1",
        "colab_type": "code",
        "colab": {}
      },
      "source": [
        ""
      ],
      "execution_count": 0,
      "outputs": []
    }
  ]
}