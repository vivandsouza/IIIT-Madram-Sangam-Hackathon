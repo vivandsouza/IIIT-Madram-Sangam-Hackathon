{
 "cells": [
  {
   "cell_type": "markdown",
   "metadata": {},
   "source": [
    "## Sangam 2019 Hackathon"
   ]
  },
  {
   "cell_type": "code",
   "execution_count": 1,
   "metadata": {},
   "outputs": [],
   "source": [
    "import pandas as pd\n",
    "import numpy as np"
   ]
  },
  {
   "cell_type": "code",
   "execution_count": 68,
   "metadata": {},
   "outputs": [],
   "source": [
    "train_data = pd.read_csv(\"Train.csv\", na_values=(\"NA\", \"\", \" \"))\n",
    "test_data = pd.read_csv(\"Test.csv\", na_values=(\"NA\", \"\", \" \"))"
   ]
  },
  {
   "cell_type": "code",
   "execution_count": 69,
   "metadata": {},
   "outputs": [
    {
     "data": {
      "text/html": [
       "<div>\n",
       "<style scoped>\n",
       "    .dataframe tbody tr th:only-of-type {\n",
       "        vertical-align: middle;\n",
       "    }\n",
       "\n",
       "    .dataframe tbody tr th {\n",
       "        vertical-align: top;\n",
       "    }\n",
       "\n",
       "    .dataframe thead th {\n",
       "        text-align: right;\n",
       "    }\n",
       "</style>\n",
       "<table border=\"1\" class=\"dataframe\">\n",
       "  <thead>\n",
       "    <tr style=\"text-align: right;\">\n",
       "      <th></th>\n",
       "      <th>date_time</th>\n",
       "      <th>is_holiday</th>\n",
       "      <th>air_pollution_index</th>\n",
       "      <th>humidity</th>\n",
       "      <th>wind_speed</th>\n",
       "      <th>wind_direction</th>\n",
       "      <th>visibility_in_miles</th>\n",
       "      <th>dew_point</th>\n",
       "      <th>temperature</th>\n",
       "      <th>rain_p_h</th>\n",
       "      <th>snow_p_h</th>\n",
       "      <th>clouds_all</th>\n",
       "      <th>weather_type</th>\n",
       "      <th>weather_description</th>\n",
       "      <th>traffic_volume</th>\n",
       "    </tr>\n",
       "  </thead>\n",
       "  <tbody>\n",
       "    <tr>\n",
       "      <th>0</th>\n",
       "      <td>2012-10-02 09:00:00</td>\n",
       "      <td>None</td>\n",
       "      <td>121</td>\n",
       "      <td>89</td>\n",
       "      <td>2</td>\n",
       "      <td>329</td>\n",
       "      <td>1</td>\n",
       "      <td>1</td>\n",
       "      <td>288.28</td>\n",
       "      <td>0.0</td>\n",
       "      <td>0.0</td>\n",
       "      <td>40</td>\n",
       "      <td>Clouds</td>\n",
       "      <td>scattered clouds</td>\n",
       "      <td>5545</td>\n",
       "    </tr>\n",
       "    <tr>\n",
       "      <th>1</th>\n",
       "      <td>2012-10-02 10:00:00</td>\n",
       "      <td>None</td>\n",
       "      <td>178</td>\n",
       "      <td>67</td>\n",
       "      <td>3</td>\n",
       "      <td>330</td>\n",
       "      <td>1</td>\n",
       "      <td>1</td>\n",
       "      <td>289.36</td>\n",
       "      <td>0.0</td>\n",
       "      <td>0.0</td>\n",
       "      <td>75</td>\n",
       "      <td>Clouds</td>\n",
       "      <td>broken clouds</td>\n",
       "      <td>4516</td>\n",
       "    </tr>\n",
       "    <tr>\n",
       "      <th>2</th>\n",
       "      <td>2012-10-02 11:00:00</td>\n",
       "      <td>None</td>\n",
       "      <td>113</td>\n",
       "      <td>66</td>\n",
       "      <td>3</td>\n",
       "      <td>329</td>\n",
       "      <td>2</td>\n",
       "      <td>2</td>\n",
       "      <td>289.58</td>\n",
       "      <td>0.0</td>\n",
       "      <td>0.0</td>\n",
       "      <td>90</td>\n",
       "      <td>Clouds</td>\n",
       "      <td>overcast clouds</td>\n",
       "      <td>4767</td>\n",
       "    </tr>\n",
       "    <tr>\n",
       "      <th>3</th>\n",
       "      <td>2012-10-02 12:00:00</td>\n",
       "      <td>None</td>\n",
       "      <td>20</td>\n",
       "      <td>66</td>\n",
       "      <td>3</td>\n",
       "      <td>329</td>\n",
       "      <td>5</td>\n",
       "      <td>5</td>\n",
       "      <td>290.13</td>\n",
       "      <td>0.0</td>\n",
       "      <td>0.0</td>\n",
       "      <td>90</td>\n",
       "      <td>Clouds</td>\n",
       "      <td>overcast clouds</td>\n",
       "      <td>5026</td>\n",
       "    </tr>\n",
       "    <tr>\n",
       "      <th>4</th>\n",
       "      <td>2012-10-02 13:00:00</td>\n",
       "      <td>None</td>\n",
       "      <td>281</td>\n",
       "      <td>65</td>\n",
       "      <td>3</td>\n",
       "      <td>329</td>\n",
       "      <td>7</td>\n",
       "      <td>7</td>\n",
       "      <td>291.14</td>\n",
       "      <td>0.0</td>\n",
       "      <td>0.0</td>\n",
       "      <td>75</td>\n",
       "      <td>Clouds</td>\n",
       "      <td>broken clouds</td>\n",
       "      <td>4918</td>\n",
       "    </tr>\n",
       "  </tbody>\n",
       "</table>\n",
       "</div>"
      ],
      "text/plain": [
       "             date_time is_holiday  air_pollution_index  humidity  wind_speed  \\\n",
       "0  2012-10-02 09:00:00       None                  121        89           2   \n",
       "1  2012-10-02 10:00:00       None                  178        67           3   \n",
       "2  2012-10-02 11:00:00       None                  113        66           3   \n",
       "3  2012-10-02 12:00:00       None                   20        66           3   \n",
       "4  2012-10-02 13:00:00       None                  281        65           3   \n",
       "\n",
       "   wind_direction  visibility_in_miles  dew_point  temperature  rain_p_h  \\\n",
       "0             329                    1          1       288.28       0.0   \n",
       "1             330                    1          1       289.36       0.0   \n",
       "2             329                    2          2       289.58       0.0   \n",
       "3             329                    5          5       290.13       0.0   \n",
       "4             329                    7          7       291.14       0.0   \n",
       "\n",
       "   snow_p_h  clouds_all weather_type weather_description  traffic_volume  \n",
       "0       0.0          40       Clouds    scattered clouds            5545  \n",
       "1       0.0          75       Clouds       broken clouds            4516  \n",
       "2       0.0          90       Clouds     overcast clouds            4767  \n",
       "3       0.0          90       Clouds     overcast clouds            5026  \n",
       "4       0.0          75       Clouds       broken clouds            4918  "
      ]
     },
     "execution_count": 69,
     "metadata": {},
     "output_type": "execute_result"
    }
   ],
   "source": [
    "train_data.head()"
   ]
  },
  {
   "cell_type": "code",
   "execution_count": 3,
   "metadata": {},
   "outputs": [
    {
     "name": "stdout",
     "output_type": "stream",
     "text": [
      "(33750, 15)\n",
      "(14454, 14)\n"
     ]
    }
   ],
   "source": [
    "print(train_data.shape)\n",
    "print(test_data.shape)"
   ]
  },
  {
   "cell_type": "code",
   "execution_count": 4,
   "metadata": {
    "scrolled": false
   },
   "outputs": [
    {
     "name": "stdout",
     "output_type": "stream",
     "text": [
      "<class 'pandas.core.frame.DataFrame'>\n",
      "RangeIndex: 33750 entries, 0 to 33749\n",
      "Data columns (total 15 columns):\n",
      "date_time              33750 non-null object\n",
      "is_holiday             33750 non-null object\n",
      "air_pollution_index    33750 non-null int64\n",
      "humidity               33750 non-null int64\n",
      "wind_speed             33750 non-null int64\n",
      "wind_direction         33750 non-null int64\n",
      "visibility_in_miles    33750 non-null int64\n",
      "dew_point              33750 non-null int64\n",
      "temperature            33750 non-null float64\n",
      "rain_p_h               33750 non-null float64\n",
      "snow_p_h               33750 non-null float64\n",
      "clouds_all             33750 non-null int64\n",
      "weather_type           33750 non-null object\n",
      "weather_description    33750 non-null object\n",
      "traffic_volume         33750 non-null int64\n",
      "dtypes: float64(3), int64(8), object(4)\n",
      "memory usage: 3.9+ MB\n"
     ]
    }
   ],
   "source": [
    "train_data.info()"
   ]
  },
  {
   "cell_type": "code",
   "execution_count": 5,
   "metadata": {},
   "outputs": [],
   "source": [
    "train_data[\"date_time\"] = pd.to_datetime(train_data[\"date_time\"], format = \"%Y%m%d %H:%M:%S\")\n",
    "train_data[\"date_time\"] = train_data[\"date_time\"].dt.day_name()"
   ]
  },
  {
   "cell_type": "code",
   "execution_count": 6,
   "metadata": {},
   "outputs": [],
   "source": [
    "test_data[\"date_time\"] = pd.to_datetime(test_data[\"date_time\"], format = \"%Y%m%d %H:%M:%S\")\n",
    "test_data[\"date_time\"] = test_data[\"date_time\"].dt.day_name()"
   ]
  },
  {
   "cell_type": "code",
   "execution_count": 7,
   "metadata": {},
   "outputs": [],
   "source": [
    "train_data[\"date_time\"] = train_data[\"date_time\"].astype(\"category\")\n",
    "train_data[\"is_holiday\"] = train_data[\"is_holiday\"].astype(\"category\")\n",
    "train_data[\"weather_type\"] = train_data[\"weather_type\"].astype(\"category\")\n",
    "train_data[\"weather_description\"] = train_data[\"weather_description\"].astype(\"category\")"
   ]
  },
  {
   "cell_type": "code",
   "execution_count": 8,
   "metadata": {},
   "outputs": [],
   "source": [
    "test_data[\"date_time\"] = test_data[\"date_time\"].astype(\"category\")\n",
    "test_data[\"is_holiday\"] = test_data[\"is_holiday\"].astype(\"category\")\n",
    "test_data[\"weather_type\"] = test_data[\"weather_type\"].astype(\"category\")\n",
    "test_data[\"weather_description\"] = test_data[\"weather_description\"].astype(\"category\")"
   ]
  },
  {
   "cell_type": "code",
   "execution_count": 9,
   "metadata": {
    "scrolled": false
   },
   "outputs": [
    {
     "name": "stdout",
     "output_type": "stream",
     "text": [
      "  date_time is_holiday  air_pollution_index  humidity  wind_speed  \\\n",
      "0   Tuesday       None                  121        89           2   \n",
      "1   Tuesday       None                  178        67           3   \n",
      "2   Tuesday       None                  113        66           3   \n",
      "3   Tuesday       None                   20        66           3   \n",
      "4   Tuesday       None                  281        65           3   \n",
      "\n",
      "   wind_direction  visibility_in_miles  dew_point  temperature  rain_p_h  \\\n",
      "0             329                    1          1       288.28       0.0   \n",
      "1             330                    1          1       289.36       0.0   \n",
      "2             329                    2          2       289.58       0.0   \n",
      "3             329                    5          5       290.13       0.0   \n",
      "4             329                    7          7       291.14       0.0   \n",
      "\n",
      "   snow_p_h  clouds_all weather_type weather_description  traffic_volume  \n",
      "0       0.0          40       Clouds    scattered clouds            5545  \n",
      "1       0.0          75       Clouds       broken clouds            4516  \n",
      "2       0.0          90       Clouds     overcast clouds            4767  \n",
      "3       0.0          90       Clouds     overcast clouds            5026  \n",
      "4       0.0          75       Clouds       broken clouds            4918  \n",
      "  date_time is_holiday  air_pollution_index  humidity  wind_speed  \\\n",
      "0  Thursday       None                   73        63           1   \n",
      "1  Thursday       None                  251        63           1   \n",
      "2  Thursday       None                   75        56           1   \n",
      "3  Thursday       None                   98        56           1   \n",
      "4  Thursday       None                  283        56           1   \n",
      "\n",
      "   wind_direction  visibility_in_miles  dew_point  temperature  rain_p_h  \\\n",
      "0              27                    4          4       285.15       0.0   \n",
      "1              27                    4          4       285.15       0.0   \n",
      "2               0                    1          1       285.15       0.0   \n",
      "3             351                    2          2       284.79       0.0   \n",
      "4             351                    1          1       284.79       0.0   \n",
      "\n",
      "   snow_p_h  clouds_all weather_type      weather_description  \n",
      "0         0          90         Rain            moderate rain  \n",
      "1         0          90         Mist                     mist  \n",
      "2         0          90      Drizzle  light intensity drizzle  \n",
      "3         0          90         Rain     heavy intensity rain  \n",
      "4         0          90         Mist                     mist  \n"
     ]
    }
   ],
   "source": [
    "print(train_data.head())\n",
    "print(test_data.head())"
   ]
  },
  {
   "cell_type": "code",
   "execution_count": 10,
   "metadata": {
    "scrolled": false
   },
   "outputs": [
    {
     "data": {
      "text/plain": [
       "date_time              0\n",
       "is_holiday             0\n",
       "air_pollution_index    0\n",
       "humidity               0\n",
       "wind_speed             0\n",
       "wind_direction         0\n",
       "visibility_in_miles    0\n",
       "dew_point              0\n",
       "temperature            0\n",
       "rain_p_h               0\n",
       "snow_p_h               0\n",
       "clouds_all             0\n",
       "weather_type           0\n",
       "weather_description    0\n",
       "traffic_volume         0\n",
       "dtype: int64"
      ]
     },
     "execution_count": 10,
     "metadata": {},
     "output_type": "execute_result"
    }
   ],
   "source": [
    "train_data.isnull().sum()"
   ]
  },
  {
   "cell_type": "code",
   "execution_count": 11,
   "metadata": {},
   "outputs": [
    {
     "data": {
      "text/plain": [
       "date_time              0\n",
       "is_holiday             0\n",
       "air_pollution_index    0\n",
       "humidity               0\n",
       "wind_speed             0\n",
       "wind_direction         0\n",
       "visibility_in_miles    0\n",
       "dew_point              0\n",
       "temperature            0\n",
       "rain_p_h               0\n",
       "snow_p_h               0\n",
       "clouds_all             0\n",
       "weather_type           0\n",
       "weather_description    0\n",
       "dtype: int64"
      ]
     },
     "execution_count": 11,
     "metadata": {},
     "output_type": "execute_result"
    }
   ],
   "source": [
    "test_data.isnull().sum()"
   ]
  },
  {
   "cell_type": "code",
   "execution_count": 12,
   "metadata": {},
   "outputs": [],
   "source": [
    "## Splitting numerical and categorical variables\n",
    "train_data_num = train_data.iloc[:, 2:12]\n",
    "test_data_num = test_data.iloc[:, 2:12]"
   ]
  },
  {
   "cell_type": "code",
   "execution_count": 13,
   "metadata": {
    "scrolled": false
   },
   "outputs": [
    {
     "data": {
      "text/html": [
       "<div>\n",
       "<style scoped>\n",
       "    .dataframe tbody tr th:only-of-type {\n",
       "        vertical-align: middle;\n",
       "    }\n",
       "\n",
       "    .dataframe tbody tr th {\n",
       "        vertical-align: top;\n",
       "    }\n",
       "\n",
       "    .dataframe thead th {\n",
       "        text-align: right;\n",
       "    }\n",
       "</style>\n",
       "<table border=\"1\" class=\"dataframe\">\n",
       "  <thead>\n",
       "    <tr style=\"text-align: right;\">\n",
       "      <th></th>\n",
       "      <th>air_pollution_index</th>\n",
       "      <th>humidity</th>\n",
       "      <th>wind_speed</th>\n",
       "      <th>wind_direction</th>\n",
       "      <th>visibility_in_miles</th>\n",
       "      <th>dew_point</th>\n",
       "      <th>temperature</th>\n",
       "      <th>rain_p_h</th>\n",
       "      <th>snow_p_h</th>\n",
       "      <th>clouds_all</th>\n",
       "    </tr>\n",
       "  </thead>\n",
       "  <tbody>\n",
       "    <tr>\n",
       "      <th>0</th>\n",
       "      <td>121</td>\n",
       "      <td>89</td>\n",
       "      <td>2</td>\n",
       "      <td>329</td>\n",
       "      <td>1</td>\n",
       "      <td>1</td>\n",
       "      <td>288.28</td>\n",
       "      <td>0.0</td>\n",
       "      <td>0.0</td>\n",
       "      <td>40</td>\n",
       "    </tr>\n",
       "    <tr>\n",
       "      <th>1</th>\n",
       "      <td>178</td>\n",
       "      <td>67</td>\n",
       "      <td>3</td>\n",
       "      <td>330</td>\n",
       "      <td>1</td>\n",
       "      <td>1</td>\n",
       "      <td>289.36</td>\n",
       "      <td>0.0</td>\n",
       "      <td>0.0</td>\n",
       "      <td>75</td>\n",
       "    </tr>\n",
       "    <tr>\n",
       "      <th>2</th>\n",
       "      <td>113</td>\n",
       "      <td>66</td>\n",
       "      <td>3</td>\n",
       "      <td>329</td>\n",
       "      <td>2</td>\n",
       "      <td>2</td>\n",
       "      <td>289.58</td>\n",
       "      <td>0.0</td>\n",
       "      <td>0.0</td>\n",
       "      <td>90</td>\n",
       "    </tr>\n",
       "    <tr>\n",
       "      <th>3</th>\n",
       "      <td>20</td>\n",
       "      <td>66</td>\n",
       "      <td>3</td>\n",
       "      <td>329</td>\n",
       "      <td>5</td>\n",
       "      <td>5</td>\n",
       "      <td>290.13</td>\n",
       "      <td>0.0</td>\n",
       "      <td>0.0</td>\n",
       "      <td>90</td>\n",
       "    </tr>\n",
       "    <tr>\n",
       "      <th>4</th>\n",
       "      <td>281</td>\n",
       "      <td>65</td>\n",
       "      <td>3</td>\n",
       "      <td>329</td>\n",
       "      <td>7</td>\n",
       "      <td>7</td>\n",
       "      <td>291.14</td>\n",
       "      <td>0.0</td>\n",
       "      <td>0.0</td>\n",
       "      <td>75</td>\n",
       "    </tr>\n",
       "  </tbody>\n",
       "</table>\n",
       "</div>"
      ],
      "text/plain": [
       "   air_pollution_index  humidity  wind_speed  wind_direction  \\\n",
       "0                  121        89           2             329   \n",
       "1                  178        67           3             330   \n",
       "2                  113        66           3             329   \n",
       "3                   20        66           3             329   \n",
       "4                  281        65           3             329   \n",
       "\n",
       "   visibility_in_miles  dew_point  temperature  rain_p_h  snow_p_h  clouds_all  \n",
       "0                    1          1       288.28       0.0       0.0          40  \n",
       "1                    1          1       289.36       0.0       0.0          75  \n",
       "2                    2          2       289.58       0.0       0.0          90  \n",
       "3                    5          5       290.13       0.0       0.0          90  \n",
       "4                    7          7       291.14       0.0       0.0          75  "
      ]
     },
     "execution_count": 13,
     "metadata": {},
     "output_type": "execute_result"
    }
   ],
   "source": [
    "train_data_num.head()"
   ]
  },
  {
   "cell_type": "code",
   "execution_count": 16,
   "metadata": {},
   "outputs": [],
   "source": [
    "## Encoding categorical data\n",
    "from sklearn.preprocessing import LabelEncoder\n",
    "le = LabelEncoder()"
   ]
  },
  {
   "cell_type": "code",
   "execution_count": 17,
   "metadata": {},
   "outputs": [],
   "source": [
    "cat_var = [\"date_time\", \"is_holiday\", \"weather_type\", \"weather_description\"]\n",
    "train_data_cat1 = pd.DataFrame()\n",
    "test_data_cat1 = pd.DataFrame()\n",
    "for col in cat_var:\n",
    "    train_data_cat1[col] = le.fit_transform(train_data[col])\n",
    "    test_data_cat1[col] = le.transform(test_data[col])"
   ]
  },
  {
   "cell_type": "code",
   "execution_count": 18,
   "metadata": {},
   "outputs": [
    {
     "name": "stdout",
     "output_type": "stream",
     "text": [
      "(33750, 15) (33750, 4)\n",
      "(14454, 14) (14454, 4)\n"
     ]
    }
   ],
   "source": [
    "print(train_data.shape, train_data_cat1.shape)\n",
    "print(test_data.shape, test_data_cat1.shape)"
   ]
  },
  {
   "cell_type": "code",
   "execution_count": 19,
   "metadata": {},
   "outputs": [
    {
     "name": "stdout",
     "output_type": "stream",
     "text": [
      "['Friday' 'Monday' 'Saturday' 'Sunday' 'Thursday' 'Tuesday' 'Wednesday'] \n",
      " [0 1 2 3 4 5 6]\n",
      "['Christmas Day' 'Columbus Day' 'Independence Day' 'Labor Day'\n",
      " 'Martin Luther King Jr Day' 'Memorial Day' 'New Years Day' 'None'\n",
      " 'State Fair' 'Thanksgiving Day' 'Veterans Day' 'Washingtons Birthday'] \n",
      " [ 0  1  2  3  4  5  6  7  8  9 10 11]\n",
      "['Clear' 'Clouds' 'Drizzle' 'Fog' 'Haze' 'Mist' 'Rain' 'Smoke' 'Snow'\n",
      " 'Squall' 'Thunderstorm'] \n",
      " [ 0  1  2  3  4  5  6  7  8  9 10]\n",
      "['SQUALLS' 'Sky is Clear' 'broken clouds' 'drizzle' 'few clouds' 'fog'\n",
      " 'freezing rain' 'haze' 'heavy intensity drizzle' 'heavy intensity rain'\n",
      " 'heavy snow' 'light intensity drizzle' 'light intensity shower rain'\n",
      " 'light rain' 'light rain and snow' 'light shower snow' 'light snow'\n",
      " 'mist' 'moderate rain' 'overcast clouds' 'proximity shower rain'\n",
      " 'proximity thunderstorm' 'proximity thunderstorm with drizzle'\n",
      " 'proximity thunderstorm with rain' 'scattered clouds' 'shower drizzle'\n",
      " 'shower snow' 'sky is clear' 'sleet' 'smoke' 'snow' 'thunderstorm'\n",
      " 'thunderstorm with drizzle' 'thunderstorm with heavy rain'\n",
      " 'thunderstorm with light drizzle' 'thunderstorm with light rain'\n",
      " 'thunderstorm with rain' 'very heavy rain'] \n",
      " [ 0  1  2  3  4  5  6  7  8  9 10 11 12 13 14 15 16 17 18 19 20 21 22 23\n",
      " 24 25 26 27 28 29 30 31 32 33 34 35 36 37]\n"
     ]
    }
   ],
   "source": [
    "# train_data[[\"date_time\", \"is_holiday\", \"weather_type\", \"weather_description\"]].head()\n",
    "for i in [\"date_time\", \"is_holiday\", \"weather_type\", \"weather_description\"]:\n",
    "    print(np.unique(train_data[i]),\"\\n\", np.unique(train_data_cat1[i]))"
   ]
  },
  {
   "cell_type": "code",
   "execution_count": 20,
   "metadata": {},
   "outputs": [
    {
     "name": "stdout",
     "output_type": "stream",
     "text": [
      "['Friday' 'Monday' 'Saturday' 'Sunday' 'Thursday' 'Tuesday' 'Wednesday'] \n",
      " [0 1 2 3 4 5 6]\n",
      "['Christmas Day' 'Columbus Day' 'Independence Day' 'Labor Day'\n",
      " 'Martin Luther King Jr Day' 'Memorial Day' 'New Years Day' 'None'\n",
      " 'State Fair' 'Thanksgiving Day' 'Veterans Day' 'Washingtons Birthday'] \n",
      " [ 0  1  2  3  4  5  6  7  8  9 10 11]\n",
      "['Clear' 'Clouds' 'Drizzle' 'Fog' 'Haze' 'Mist' 'Rain' 'Smoke' 'Snow'\n",
      " 'Thunderstorm'] \n",
      " [ 0  1  2  3  4  5  6  7  8 10]\n",
      "['Sky is Clear' 'broken clouds' 'drizzle' 'few clouds' 'fog' 'haze'\n",
      " 'heavy intensity drizzle' 'heavy intensity rain' 'heavy snow'\n",
      " 'light intensity drizzle' 'light intensity shower rain' 'light rain'\n",
      " 'light shower snow' 'light snow' 'mist' 'moderate rain' 'overcast clouds'\n",
      " 'proximity shower rain' 'proximity thunderstorm'\n",
      " 'proximity thunderstorm with drizzle' 'proximity thunderstorm with rain'\n",
      " 'scattered clouds' 'shower drizzle' 'sky is clear' 'sleet' 'smoke' 'snow'\n",
      " 'thunderstorm' 'thunderstorm with heavy rain'\n",
      " 'thunderstorm with light drizzle' 'thunderstorm with light rain'\n",
      " 'thunderstorm with rain'] \n",
      " [ 1  2  3  4  5  7  8  9 10 11 12 13 15 16 17 18 19 20 21 22 23 24 25 27\n",
      " 28 29 30 31 33 34 35 36]\n"
     ]
    }
   ],
   "source": [
    "for i in [\"date_time\", \"is_holiday\", \"weather_type\", \"weather_description\"]:\n",
    "    print(np.unique(test_data[i]),\"\\n\", np.unique(test_data_cat1[i]))"
   ]
  },
  {
   "cell_type": "code",
   "execution_count": 21,
   "metadata": {
    "scrolled": true
   },
   "outputs": [],
   "source": [
    "train = pd.concat([train_data_num, train_data_cat1], axis = 1)\n",
    "test = pd.concat([test_data_num, test_data_cat1], axis = 1)"
   ]
  },
  {
   "cell_type": "code",
   "execution_count": 27,
   "metadata": {},
   "outputs": [
    {
     "data": {
      "text/html": [
       "<div>\n",
       "<style scoped>\n",
       "    .dataframe tbody tr th:only-of-type {\n",
       "        vertical-align: middle;\n",
       "    }\n",
       "\n",
       "    .dataframe tbody tr th {\n",
       "        vertical-align: top;\n",
       "    }\n",
       "\n",
       "    .dataframe thead th {\n",
       "        text-align: right;\n",
       "    }\n",
       "</style>\n",
       "<table border=\"1\" class=\"dataframe\">\n",
       "  <thead>\n",
       "    <tr style=\"text-align: right;\">\n",
       "      <th></th>\n",
       "      <th>air_pollution_index</th>\n",
       "      <th>humidity</th>\n",
       "      <th>wind_speed</th>\n",
       "      <th>wind_direction</th>\n",
       "      <th>visibility_in_miles</th>\n",
       "      <th>dew_point</th>\n",
       "      <th>temperature</th>\n",
       "      <th>rain_p_h</th>\n",
       "      <th>snow_p_h</th>\n",
       "      <th>clouds_all</th>\n",
       "      <th>date_time</th>\n",
       "      <th>is_holiday</th>\n",
       "      <th>weather_type</th>\n",
       "      <th>weather_description</th>\n",
       "    </tr>\n",
       "  </thead>\n",
       "  <tbody>\n",
       "    <tr>\n",
       "      <th>0</th>\n",
       "      <td>121</td>\n",
       "      <td>89</td>\n",
       "      <td>2</td>\n",
       "      <td>329</td>\n",
       "      <td>1</td>\n",
       "      <td>1</td>\n",
       "      <td>288.28</td>\n",
       "      <td>0.0</td>\n",
       "      <td>0.0</td>\n",
       "      <td>40</td>\n",
       "      <td>5</td>\n",
       "      <td>7</td>\n",
       "      <td>1</td>\n",
       "      <td>24</td>\n",
       "    </tr>\n",
       "    <tr>\n",
       "      <th>1</th>\n",
       "      <td>178</td>\n",
       "      <td>67</td>\n",
       "      <td>3</td>\n",
       "      <td>330</td>\n",
       "      <td>1</td>\n",
       "      <td>1</td>\n",
       "      <td>289.36</td>\n",
       "      <td>0.0</td>\n",
       "      <td>0.0</td>\n",
       "      <td>75</td>\n",
       "      <td>5</td>\n",
       "      <td>7</td>\n",
       "      <td>1</td>\n",
       "      <td>2</td>\n",
       "    </tr>\n",
       "    <tr>\n",
       "      <th>2</th>\n",
       "      <td>113</td>\n",
       "      <td>66</td>\n",
       "      <td>3</td>\n",
       "      <td>329</td>\n",
       "      <td>2</td>\n",
       "      <td>2</td>\n",
       "      <td>289.58</td>\n",
       "      <td>0.0</td>\n",
       "      <td>0.0</td>\n",
       "      <td>90</td>\n",
       "      <td>5</td>\n",
       "      <td>7</td>\n",
       "      <td>1</td>\n",
       "      <td>19</td>\n",
       "    </tr>\n",
       "    <tr>\n",
       "      <th>3</th>\n",
       "      <td>20</td>\n",
       "      <td>66</td>\n",
       "      <td>3</td>\n",
       "      <td>329</td>\n",
       "      <td>5</td>\n",
       "      <td>5</td>\n",
       "      <td>290.13</td>\n",
       "      <td>0.0</td>\n",
       "      <td>0.0</td>\n",
       "      <td>90</td>\n",
       "      <td>5</td>\n",
       "      <td>7</td>\n",
       "      <td>1</td>\n",
       "      <td>19</td>\n",
       "    </tr>\n",
       "    <tr>\n",
       "      <th>4</th>\n",
       "      <td>281</td>\n",
       "      <td>65</td>\n",
       "      <td>3</td>\n",
       "      <td>329</td>\n",
       "      <td>7</td>\n",
       "      <td>7</td>\n",
       "      <td>291.14</td>\n",
       "      <td>0.0</td>\n",
       "      <td>0.0</td>\n",
       "      <td>75</td>\n",
       "      <td>5</td>\n",
       "      <td>7</td>\n",
       "      <td>1</td>\n",
       "      <td>2</td>\n",
       "    </tr>\n",
       "  </tbody>\n",
       "</table>\n",
       "</div>"
      ],
      "text/plain": [
       "   air_pollution_index  humidity  wind_speed  wind_direction  \\\n",
       "0                  121        89           2             329   \n",
       "1                  178        67           3             330   \n",
       "2                  113        66           3             329   \n",
       "3                   20        66           3             329   \n",
       "4                  281        65           3             329   \n",
       "\n",
       "   visibility_in_miles  dew_point  temperature  rain_p_h  snow_p_h  \\\n",
       "0                    1          1       288.28       0.0       0.0   \n",
       "1                    1          1       289.36       0.0       0.0   \n",
       "2                    2          2       289.58       0.0       0.0   \n",
       "3                    5          5       290.13       0.0       0.0   \n",
       "4                    7          7       291.14       0.0       0.0   \n",
       "\n",
       "   clouds_all  date_time  is_holiday  weather_type  weather_description  \n",
       "0          40          5           7             1                   24  \n",
       "1          75          5           7             1                    2  \n",
       "2          90          5           7             1                   19  \n",
       "3          90          5           7             1                   19  \n",
       "4          75          5           7             1                    2  "
      ]
     },
     "execution_count": 27,
     "metadata": {},
     "output_type": "execute_result"
    }
   ],
   "source": [
    "train.head()"
   ]
  },
  {
   "cell_type": "code",
   "execution_count": 32,
   "metadata": {},
   "outputs": [
    {
     "data": {
      "text/plain": [
       "(14454, 14)"
      ]
     },
     "execution_count": 32,
     "metadata": {},
     "output_type": "execute_result"
    }
   ],
   "source": [
    "test.shape"
   ]
  },
  {
   "cell_type": "code",
   "execution_count": 33,
   "metadata": {},
   "outputs": [],
   "source": [
    "X = train\n",
    "y = train_data[\"traffic_volume\"].values"
   ]
  },
  {
   "cell_type": "code",
   "execution_count": 34,
   "metadata": {},
   "outputs": [
    {
     "name": "stdout",
     "output_type": "stream",
     "text": [
      "(33750, 14)\n",
      "(33750,)\n"
     ]
    }
   ],
   "source": [
    "print(X.shape)\n",
    "print(y.shape)"
   ]
  },
  {
   "cell_type": "code",
   "execution_count": 35,
   "metadata": {},
   "outputs": [],
   "source": [
    "from sklearn.model_selection import train_test_split\n",
    "X_train, X_val, y_train, y_val = train_test_split(X, y, test_size = 0.2, random_state = 0)"
   ]
  },
  {
   "cell_type": "code",
   "execution_count": 36,
   "metadata": {},
   "outputs": [
    {
     "data": {
      "text/plain": [
       "LinearRegression(copy_X=True, fit_intercept=True, n_jobs=1, normalize=False)"
      ]
     },
     "execution_count": 36,
     "metadata": {},
     "output_type": "execute_result"
    }
   ],
   "source": [
    "from sklearn.linear_model import LinearRegression\n",
    "regression = LinearRegression()\n",
    "regression.fit(X_train, y_train)"
   ]
  },
  {
   "cell_type": "code",
   "execution_count": 37,
   "metadata": {},
   "outputs": [
    {
     "name": "stdout",
     "output_type": "stream",
     "text": [
      "[2679.83833689 2871.27372337 3793.82755534 ... 2875.35541728 2776.40273069\n",
      " 3583.05143772]\n",
      "[2789 4814 3238 ... 5739 3745 5597]\n"
     ]
    }
   ],
   "source": [
    "## Predicting validation set result\n",
    "y_pred = regression.predict(X_val)\n",
    "print(y_pred)\n",
    "print(y_val)"
   ]
  },
  {
   "cell_type": "code",
   "execution_count": 39,
   "metadata": {},
   "outputs": [
    {
     "data": {
      "text/html": [
       "<table class=\"simpletable\">\n",
       "<caption>OLS Regression Results</caption>\n",
       "<tr>\n",
       "  <th>Dep. Variable:</th>            <td>y</td>        <th>  R-squared:         </th>  <td>   0.028</td>  \n",
       "</tr>\n",
       "<tr>\n",
       "  <th>Model:</th>                   <td>OLS</td>       <th>  Adj. R-squared:    </th>  <td>   0.027</td>  \n",
       "</tr>\n",
       "<tr>\n",
       "  <th>Method:</th>             <td>Least Squares</td>  <th>  F-statistic:       </th>  <td>   73.99</td>  \n",
       "</tr>\n",
       "<tr>\n",
       "  <th>Date:</th>             <td>Thu, 01 Aug 2019</td> <th>  Prob (F-statistic):</th>  <td>1.91e-194</td> \n",
       "</tr>\n",
       "<tr>\n",
       "  <th>Time:</th>                 <td>15:20:47</td>     <th>  Log-Likelihood:    </th> <td>-3.0380e+05</td>\n",
       "</tr>\n",
       "<tr>\n",
       "  <th>No. Observations:</th>      <td> 33750</td>      <th>  AIC:               </th>  <td>6.076e+05</td> \n",
       "</tr>\n",
       "<tr>\n",
       "  <th>Df Residuals:</th>          <td> 33736</td>      <th>  BIC:               </th>  <td>6.077e+05</td> \n",
       "</tr>\n",
       "<tr>\n",
       "  <th>Df Model:</th>              <td>    13</td>      <th>                     </th>      <td> </td>     \n",
       "</tr>\n",
       "<tr>\n",
       "  <th>Covariance Type:</th>      <td>nonrobust</td>    <th>                     </th>      <td> </td>     \n",
       "</tr>\n",
       "</table>\n",
       "<table class=\"simpletable\">\n",
       "<tr>\n",
       "    <td></td>       <th>coef</th>     <th>std err</th>      <th>t</th>      <th>P>|t|</th>  <th>[0.025</th>    <th>0.975]</th>  \n",
       "</tr>\n",
       "<tr>\n",
       "  <th>const</th> <td>-4180.8843</td> <td>  574.157</td> <td>   -7.282</td> <td> 0.000</td> <td>-5306.252</td> <td>-3055.516</td>\n",
       "</tr>\n",
       "<tr>\n",
       "  <th>x1</th>    <td>   -0.0900</td> <td>    0.128</td> <td>   -0.704</td> <td> 0.481</td> <td>   -0.340</td> <td>    0.160</td>\n",
       "</tr>\n",
       "<tr>\n",
       "  <th>x2</th>    <td>    2.0131</td> <td>    0.642</td> <td>    3.135</td> <td> 0.002</td> <td>    0.754</td> <td>    3.272</td>\n",
       "</tr>\n",
       "<tr>\n",
       "  <th>x3</th>    <td>   22.1597</td> <td>    5.369</td> <td>    4.127</td> <td> 0.000</td> <td>   11.636</td> <td>   32.684</td>\n",
       "</tr>\n",
       "<tr>\n",
       "  <th>x4</th>    <td>    0.2907</td> <td>    0.109</td> <td>    2.660</td> <td> 0.008</td> <td>    0.077</td> <td>    0.505</td>\n",
       "</tr>\n",
       "<tr>\n",
       "  <th>x5</th>    <td>    0.6161</td> <td>    2.080</td> <td>    0.296</td> <td> 0.767</td> <td>   -3.461</td> <td>    4.693</td>\n",
       "</tr>\n",
       "<tr>\n",
       "  <th>x6</th>    <td>    0.6161</td> <td>    2.080</td> <td>    0.296</td> <td> 0.767</td> <td>   -3.461</td> <td>    4.693</td>\n",
       "</tr>\n",
       "<tr>\n",
       "  <th>x7</th>    <td>   19.8713</td> <td>    0.809</td> <td>   24.568</td> <td> 0.000</td> <td>   18.286</td> <td>   21.457</td>\n",
       "</tr>\n",
       "<tr>\n",
       "  <th>x8</th>    <td>    0.1998</td> <td>    0.200</td> <td>    1.000</td> <td> 0.317</td> <td>   -0.192</td> <td>    0.591</td>\n",
       "</tr>\n",
       "<tr>\n",
       "  <th>x9</th>    <td>  946.6923</td> <td> 1097.146</td> <td>    0.863</td> <td> 0.388</td> <td>-1203.752</td> <td> 3097.137</td>\n",
       "</tr>\n",
       "<tr>\n",
       "  <th>x10</th>   <td>    4.4253</td> <td>    0.336</td> <td>   13.182</td> <td> 0.000</td> <td>    3.767</td> <td>    5.083</td>\n",
       "</tr>\n",
       "<tr>\n",
       "  <th>x11</th>   <td>   35.0929</td> <td>    5.337</td> <td>    6.575</td> <td> 0.000</td> <td>   24.631</td> <td>   45.555</td>\n",
       "</tr>\n",
       "<tr>\n",
       "  <th>x12</th>   <td>  216.2700</td> <td>   74.524</td> <td>    2.902</td> <td> 0.004</td> <td>   70.201</td> <td>  362.339</td>\n",
       "</tr>\n",
       "<tr>\n",
       "  <th>x13</th>   <td>  -58.9877</td> <td>    4.565</td> <td>  -12.921</td> <td> 0.000</td> <td>  -67.936</td> <td>  -50.040</td>\n",
       "</tr>\n",
       "<tr>\n",
       "  <th>x14</th>   <td>   -6.6841</td> <td>    1.235</td> <td>   -5.410</td> <td> 0.000</td> <td>   -9.106</td> <td>   -4.263</td>\n",
       "</tr>\n",
       "</table>\n",
       "<table class=\"simpletable\">\n",
       "<tr>\n",
       "  <th>Omnibus:</th>       <td>45033.902</td> <th>  Durbin-Watson:     </th> <td>   0.201</td>\n",
       "</tr>\n",
       "<tr>\n",
       "  <th>Prob(Omnibus):</th>  <td> 0.000</td>   <th>  Jarque-Bera (JB):  </th> <td>2180.530</td>\n",
       "</tr>\n",
       "<tr>\n",
       "  <th>Skew:</th>           <td>-0.060</td>   <th>  Prob(JB):          </th> <td>    0.00</td>\n",
       "</tr>\n",
       "<tr>\n",
       "  <th>Kurtosis:</th>       <td> 1.761</td>   <th>  Cond. No.          </th> <td>4.70e+18</td>\n",
       "</tr>\n",
       "</table><br/><br/>Warnings:<br/>[1] Standard Errors assume that the covariance matrix of the errors is correctly specified.<br/>[2] The smallest eigenvalue is 2.36e-28. This might indicate that there are<br/>strong multicollinearity problems or that the design matrix is singular."
      ],
      "text/plain": [
       "<class 'statsmodels.iolib.summary.Summary'>\n",
       "\"\"\"\n",
       "                            OLS Regression Results                            \n",
       "==============================================================================\n",
       "Dep. Variable:                      y   R-squared:                       0.028\n",
       "Model:                            OLS   Adj. R-squared:                  0.027\n",
       "Method:                 Least Squares   F-statistic:                     73.99\n",
       "Date:                Thu, 01 Aug 2019   Prob (F-statistic):          1.91e-194\n",
       "Time:                        15:20:47   Log-Likelihood:            -3.0380e+05\n",
       "No. Observations:               33750   AIC:                         6.076e+05\n",
       "Df Residuals:                   33736   BIC:                         6.077e+05\n",
       "Df Model:                          13                                         \n",
       "Covariance Type:            nonrobust                                         \n",
       "==============================================================================\n",
       "                 coef    std err          t      P>|t|      [0.025      0.975]\n",
       "------------------------------------------------------------------------------\n",
       "const      -4180.8843    574.157     -7.282      0.000   -5306.252   -3055.516\n",
       "x1            -0.0900      0.128     -0.704      0.481      -0.340       0.160\n",
       "x2             2.0131      0.642      3.135      0.002       0.754       3.272\n",
       "x3            22.1597      5.369      4.127      0.000      11.636      32.684\n",
       "x4             0.2907      0.109      2.660      0.008       0.077       0.505\n",
       "x5             0.6161      2.080      0.296      0.767      -3.461       4.693\n",
       "x6             0.6161      2.080      0.296      0.767      -3.461       4.693\n",
       "x7            19.8713      0.809     24.568      0.000      18.286      21.457\n",
       "x8             0.1998      0.200      1.000      0.317      -0.192       0.591\n",
       "x9           946.6923   1097.146      0.863      0.388   -1203.752    3097.137\n",
       "x10            4.4253      0.336     13.182      0.000       3.767       5.083\n",
       "x11           35.0929      5.337      6.575      0.000      24.631      45.555\n",
       "x12          216.2700     74.524      2.902      0.004      70.201     362.339\n",
       "x13          -58.9877      4.565    -12.921      0.000     -67.936     -50.040\n",
       "x14           -6.6841      1.235     -5.410      0.000      -9.106      -4.263\n",
       "==============================================================================\n",
       "Omnibus:                    45033.902   Durbin-Watson:                   0.201\n",
       "Prob(Omnibus):                  0.000   Jarque-Bera (JB):             2180.530\n",
       "Skew:                          -0.060   Prob(JB):                         0.00\n",
       "Kurtosis:                       1.761   Cond. No.                     4.70e+18\n",
       "==============================================================================\n",
       "\n",
       "Warnings:\n",
       "[1] Standard Errors assume that the covariance matrix of the errors is correctly specified.\n",
       "[2] The smallest eigenvalue is 2.36e-28. This might indicate that there are\n",
       "strong multicollinearity problems or that the design matrix is singular.\n",
       "\"\"\""
      ]
     },
     "execution_count": 39,
     "metadata": {},
     "output_type": "execute_result"
    }
   ],
   "source": [
    "## Building the optimal model using backward elimination\n",
    "import statsmodels.formula.api as sm\n",
    "X = np.append(arr= np.ones((33750, 1)).astype(int), values= X, axis = 1)\n",
    "X_opt = X[:, [0, 1, 2, 3, 4, 5, 6, 7, 8, 9, 10, 11, 12, 13, 14]]\n",
    "regressor_OLS = sm.OLS(endog=y, exog=X_opt).fit()\n",
    "regressor_OLS.summary()"
   ]
  },
  {
   "cell_type": "code",
   "execution_count": 48,
   "metadata": {
    "scrolled": true
   },
   "outputs": [],
   "source": [
    "X_test = np.append(arr= np.ones((14454, 1)).astype(int), values= test, axis = 1)"
   ]
  },
  {
   "cell_type": "code",
   "execution_count": 40,
   "metadata": {
    "scrolled": true
   },
   "outputs": [
    {
     "data": {
      "text/html": [
       "<table class=\"simpletable\">\n",
       "<caption>OLS Regression Results</caption>\n",
       "<tr>\n",
       "  <th>Dep. Variable:</th>            <td>y</td>        <th>  R-squared:         </th>  <td>   0.028</td>  \n",
       "</tr>\n",
       "<tr>\n",
       "  <th>Model:</th>                   <td>OLS</td>       <th>  Adj. R-squared:    </th>  <td>   0.027</td>  \n",
       "</tr>\n",
       "<tr>\n",
       "  <th>Method:</th>             <td>Least Squares</td>  <th>  F-statistic:       </th>  <td>   80.15</td>  \n",
       "</tr>\n",
       "<tr>\n",
       "  <th>Date:</th>             <td>Thu, 01 Aug 2019</td> <th>  Prob (F-statistic):</th>  <td>2.18e-195</td> \n",
       "</tr>\n",
       "<tr>\n",
       "  <th>Time:</th>                 <td>15:21:01</td>     <th>  Log-Likelihood:    </th> <td>-3.0380e+05</td>\n",
       "</tr>\n",
       "<tr>\n",
       "  <th>No. Observations:</th>      <td> 33750</td>      <th>  AIC:               </th>  <td>6.076e+05</td> \n",
       "</tr>\n",
       "<tr>\n",
       "  <th>Df Residuals:</th>          <td> 33737</td>      <th>  BIC:               </th>  <td>6.077e+05</td> \n",
       "</tr>\n",
       "<tr>\n",
       "  <th>Df Model:</th>              <td>    12</td>      <th>                     </th>      <td> </td>     \n",
       "</tr>\n",
       "<tr>\n",
       "  <th>Covariance Type:</th>      <td>nonrobust</td>    <th>                     </th>      <td> </td>     \n",
       "</tr>\n",
       "</table>\n",
       "<table class=\"simpletable\">\n",
       "<tr>\n",
       "    <td></td>       <th>coef</th>     <th>std err</th>      <th>t</th>      <th>P>|t|</th>  <th>[0.025</th>    <th>0.975]</th>  \n",
       "</tr>\n",
       "<tr>\n",
       "  <th>const</th> <td>-4173.3011</td> <td>  573.578</td> <td>   -7.276</td> <td> 0.000</td> <td>-5297.534</td> <td>-3049.068</td>\n",
       "</tr>\n",
       "<tr>\n",
       "  <th>x1</th>    <td>   -0.0898</td> <td>    0.128</td> <td>   -0.703</td> <td> 0.482</td> <td>   -0.340</td> <td>    0.160</td>\n",
       "</tr>\n",
       "<tr>\n",
       "  <th>x2</th>    <td>    2.0140</td> <td>    0.642</td> <td>    3.136</td> <td> 0.002</td> <td>    0.755</td> <td>    3.273</td>\n",
       "</tr>\n",
       "<tr>\n",
       "  <th>x3</th>    <td>   22.1529</td> <td>    5.369</td> <td>    4.126</td> <td> 0.000</td> <td>   11.629</td> <td>   32.677</td>\n",
       "</tr>\n",
       "<tr>\n",
       "  <th>x4</th>    <td>    0.2908</td> <td>    0.109</td> <td>    2.660</td> <td> 0.008</td> <td>    0.077</td> <td>    0.505</td>\n",
       "</tr>\n",
       "<tr>\n",
       "  <th>x5</th>    <td>   19.8713</td> <td>    0.809</td> <td>   24.569</td> <td> 0.000</td> <td>   18.286</td> <td>   21.457</td>\n",
       "</tr>\n",
       "<tr>\n",
       "  <th>x6</th>    <td>    0.1993</td> <td>    0.200</td> <td>    0.998</td> <td> 0.318</td> <td>   -0.192</td> <td>    0.591</td>\n",
       "</tr>\n",
       "<tr>\n",
       "  <th>x7</th>    <td>  947.1192</td> <td> 1097.131</td> <td>    0.863</td> <td> 0.388</td> <td>-1203.294</td> <td> 3097.533</td>\n",
       "</tr>\n",
       "<tr>\n",
       "  <th>x8</th>    <td>    4.4248</td> <td>    0.336</td> <td>   13.181</td> <td> 0.000</td> <td>    3.767</td> <td>    5.083</td>\n",
       "</tr>\n",
       "<tr>\n",
       "  <th>x9</th>    <td>   35.0962</td> <td>    5.337</td> <td>    6.576</td> <td> 0.000</td> <td>   24.635</td> <td>   45.558</td>\n",
       "</tr>\n",
       "<tr>\n",
       "  <th>x10</th>   <td>  216.0609</td> <td>   74.519</td> <td>    2.899</td> <td> 0.004</td> <td>   70.000</td> <td>  362.122</td>\n",
       "</tr>\n",
       "<tr>\n",
       "  <th>x11</th>   <td>  -58.9825</td> <td>    4.565</td> <td>  -12.921</td> <td> 0.000</td> <td>  -67.930</td> <td>  -50.035</td>\n",
       "</tr>\n",
       "<tr>\n",
       "  <th>x12</th>   <td>   -6.6860</td> <td>    1.235</td> <td>   -5.412</td> <td> 0.000</td> <td>   -9.107</td> <td>   -4.264</td>\n",
       "</tr>\n",
       "</table>\n",
       "<table class=\"simpletable\">\n",
       "<tr>\n",
       "  <th>Omnibus:</th>       <td>45045.023</td> <th>  Durbin-Watson:     </th> <td>   0.201</td>\n",
       "</tr>\n",
       "<tr>\n",
       "  <th>Prob(Omnibus):</th>  <td> 0.000</td>   <th>  Jarque-Bera (JB):  </th> <td>2180.592</td>\n",
       "</tr>\n",
       "<tr>\n",
       "  <th>Skew:</th>           <td>-0.060</td>   <th>  Prob(JB):          </th> <td>    0.00</td>\n",
       "</tr>\n",
       "<tr>\n",
       "  <th>Kurtosis:</th>       <td> 1.761</td>   <th>  Cond. No.          </th> <td>4.03e+04</td>\n",
       "</tr>\n",
       "</table><br/><br/>Warnings:<br/>[1] Standard Errors assume that the covariance matrix of the errors is correctly specified.<br/>[2] The condition number is large, 4.03e+04. This might indicate that there are<br/>strong multicollinearity or other numerical problems."
      ],
      "text/plain": [
       "<class 'statsmodels.iolib.summary.Summary'>\n",
       "\"\"\"\n",
       "                            OLS Regression Results                            \n",
       "==============================================================================\n",
       "Dep. Variable:                      y   R-squared:                       0.028\n",
       "Model:                            OLS   Adj. R-squared:                  0.027\n",
       "Method:                 Least Squares   F-statistic:                     80.15\n",
       "Date:                Thu, 01 Aug 2019   Prob (F-statistic):          2.18e-195\n",
       "Time:                        15:21:01   Log-Likelihood:            -3.0380e+05\n",
       "No. Observations:               33750   AIC:                         6.076e+05\n",
       "Df Residuals:                   33737   BIC:                         6.077e+05\n",
       "Df Model:                          12                                         \n",
       "Covariance Type:            nonrobust                                         \n",
       "==============================================================================\n",
       "                 coef    std err          t      P>|t|      [0.025      0.975]\n",
       "------------------------------------------------------------------------------\n",
       "const      -4173.3011    573.578     -7.276      0.000   -5297.534   -3049.068\n",
       "x1            -0.0898      0.128     -0.703      0.482      -0.340       0.160\n",
       "x2             2.0140      0.642      3.136      0.002       0.755       3.273\n",
       "x3            22.1529      5.369      4.126      0.000      11.629      32.677\n",
       "x4             0.2908      0.109      2.660      0.008       0.077       0.505\n",
       "x5            19.8713      0.809     24.569      0.000      18.286      21.457\n",
       "x6             0.1993      0.200      0.998      0.318      -0.192       0.591\n",
       "x7           947.1192   1097.131      0.863      0.388   -1203.294    3097.533\n",
       "x8             4.4248      0.336     13.181      0.000       3.767       5.083\n",
       "x9            35.0962      5.337      6.576      0.000      24.635      45.558\n",
       "x10          216.0609     74.519      2.899      0.004      70.000     362.122\n",
       "x11          -58.9825      4.565    -12.921      0.000     -67.930     -50.035\n",
       "x12           -6.6860      1.235     -5.412      0.000      -9.107      -4.264\n",
       "==============================================================================\n",
       "Omnibus:                    45045.023   Durbin-Watson:                   0.201\n",
       "Prob(Omnibus):                  0.000   Jarque-Bera (JB):             2180.592\n",
       "Skew:                          -0.060   Prob(JB):                         0.00\n",
       "Kurtosis:                       1.761   Cond. No.                     4.03e+04\n",
       "==============================================================================\n",
       "\n",
       "Warnings:\n",
       "[1] Standard Errors assume that the covariance matrix of the errors is correctly specified.\n",
       "[2] The condition number is large, 4.03e+04. This might indicate that there are\n",
       "strong multicollinearity or other numerical problems.\n",
       "\"\"\""
      ]
     },
     "execution_count": 40,
     "metadata": {},
     "output_type": "execute_result"
    }
   ],
   "source": [
    "X_opt = X[:, [0, 1, 2, 3, 4, 7, 8, 9, 10, 11, 12, 13, 14]]\n",
    "regressor_OLS = sm.OLS(endog=y, exog=X_opt).fit()\n",
    "regressor_OLS.summary()"
   ]
  },
  {
   "cell_type": "code",
   "execution_count": 41,
   "metadata": {},
   "outputs": [
    {
     "data": {
      "text/html": [
       "<table class=\"simpletable\">\n",
       "<caption>OLS Regression Results</caption>\n",
       "<tr>\n",
       "  <th>Dep. Variable:</th>            <td>y</td>        <th>  R-squared:         </th>  <td>   0.028</td>  \n",
       "</tr>\n",
       "<tr>\n",
       "  <th>Model:</th>                   <td>OLS</td>       <th>  Adj. R-squared:    </th>  <td>   0.027</td>  \n",
       "</tr>\n",
       "<tr>\n",
       "  <th>Method:</th>             <td>Least Squares</td>  <th>  F-statistic:       </th>  <td>   87.40</td>  \n",
       "</tr>\n",
       "<tr>\n",
       "  <th>Date:</th>             <td>Thu, 01 Aug 2019</td> <th>  Prob (F-statistic):</th>  <td>2.91e-196</td> \n",
       "</tr>\n",
       "<tr>\n",
       "  <th>Time:</th>                 <td>15:21:02</td>     <th>  Log-Likelihood:    </th> <td>-3.0380e+05</td>\n",
       "</tr>\n",
       "<tr>\n",
       "  <th>No. Observations:</th>      <td> 33750</td>      <th>  AIC:               </th>  <td>6.076e+05</td> \n",
       "</tr>\n",
       "<tr>\n",
       "  <th>Df Residuals:</th>          <td> 33738</td>      <th>  BIC:               </th>  <td>6.077e+05</td> \n",
       "</tr>\n",
       "<tr>\n",
       "  <th>Df Model:</th>              <td>    11</td>      <th>                     </th>      <td> </td>     \n",
       "</tr>\n",
       "<tr>\n",
       "  <th>Covariance Type:</th>      <td>nonrobust</td>    <th>                     </th>      <td> </td>     \n",
       "</tr>\n",
       "</table>\n",
       "<table class=\"simpletable\">\n",
       "<tr>\n",
       "    <td></td>       <th>coef</th>     <th>std err</th>      <th>t</th>      <th>P>|t|</th>  <th>[0.025</th>    <th>0.975]</th>  \n",
       "</tr>\n",
       "<tr>\n",
       "  <th>const</th> <td>-4188.1044</td> <td>  573.188</td> <td>   -7.307</td> <td> 0.000</td> <td>-5311.572</td> <td>-3064.636</td>\n",
       "</tr>\n",
       "<tr>\n",
       "  <th>x1</th>    <td>    2.0144</td> <td>    0.642</td> <td>    3.137</td> <td> 0.002</td> <td>    0.756</td> <td>    3.273</td>\n",
       "</tr>\n",
       "<tr>\n",
       "  <th>x2</th>    <td>   22.1673</td> <td>    5.369</td> <td>    4.129</td> <td> 0.000</td> <td>   11.644</td> <td>   32.691</td>\n",
       "</tr>\n",
       "<tr>\n",
       "  <th>x3</th>    <td>    0.2906</td> <td>    0.109</td> <td>    2.659</td> <td> 0.008</td> <td>    0.076</td> <td>    0.505</td>\n",
       "</tr>\n",
       "<tr>\n",
       "  <th>x4</th>    <td>   19.8691</td> <td>    0.809</td> <td>   24.566</td> <td> 0.000</td> <td>   18.284</td> <td>   21.454</td>\n",
       "</tr>\n",
       "<tr>\n",
       "  <th>x5</th>    <td>    0.1993</td> <td>    0.200</td> <td>    0.997</td> <td> 0.319</td> <td>   -0.192</td> <td>    0.591</td>\n",
       "</tr>\n",
       "<tr>\n",
       "  <th>x6</th>    <td>  941.1222</td> <td> 1097.089</td> <td>    0.858</td> <td> 0.391</td> <td>-1209.210</td> <td> 3091.455</td>\n",
       "</tr>\n",
       "<tr>\n",
       "  <th>x7</th>    <td>    4.4268</td> <td>    0.336</td> <td>   13.187</td> <td> 0.000</td> <td>    3.769</td> <td>    5.085</td>\n",
       "</tr>\n",
       "<tr>\n",
       "  <th>x8</th>    <td>   35.1341</td> <td>    5.337</td> <td>    6.583</td> <td> 0.000</td> <td>   24.673</td> <td>   45.595</td>\n",
       "</tr>\n",
       "<tr>\n",
       "  <th>x9</th>    <td>  216.2260</td> <td>   74.518</td> <td>    2.902</td> <td> 0.004</td> <td>   70.167</td> <td>  362.285</td>\n",
       "</tr>\n",
       "<tr>\n",
       "  <th>x10</th>   <td>  -58.9815</td> <td>    4.565</td> <td>  -12.920</td> <td> 0.000</td> <td>  -67.929</td> <td>  -50.034</td>\n",
       "</tr>\n",
       "<tr>\n",
       "  <th>x11</th>   <td>   -6.6804</td> <td>    1.235</td> <td>   -5.407</td> <td> 0.000</td> <td>   -9.102</td> <td>   -4.259</td>\n",
       "</tr>\n",
       "</table>\n",
       "<table class=\"simpletable\">\n",
       "<tr>\n",
       "  <th>Omnibus:</th>       <td>45064.361</td> <th>  Durbin-Watson:     </th> <td>   0.201</td>\n",
       "</tr>\n",
       "<tr>\n",
       "  <th>Prob(Omnibus):</th>  <td> 0.000</td>   <th>  Jarque-Bera (JB):  </th> <td>2180.697</td>\n",
       "</tr>\n",
       "<tr>\n",
       "  <th>Skew:</th>           <td>-0.060</td>   <th>  Prob(JB):          </th> <td>    0.00</td>\n",
       "</tr>\n",
       "<tr>\n",
       "  <th>Kurtosis:</th>       <td> 1.761</td>   <th>  Cond. No.          </th> <td>3.69e+04</td>\n",
       "</tr>\n",
       "</table><br/><br/>Warnings:<br/>[1] Standard Errors assume that the covariance matrix of the errors is correctly specified.<br/>[2] The condition number is large, 3.69e+04. This might indicate that there are<br/>strong multicollinearity or other numerical problems."
      ],
      "text/plain": [
       "<class 'statsmodels.iolib.summary.Summary'>\n",
       "\"\"\"\n",
       "                            OLS Regression Results                            \n",
       "==============================================================================\n",
       "Dep. Variable:                      y   R-squared:                       0.028\n",
       "Model:                            OLS   Adj. R-squared:                  0.027\n",
       "Method:                 Least Squares   F-statistic:                     87.40\n",
       "Date:                Thu, 01 Aug 2019   Prob (F-statistic):          2.91e-196\n",
       "Time:                        15:21:02   Log-Likelihood:            -3.0380e+05\n",
       "No. Observations:               33750   AIC:                         6.076e+05\n",
       "Df Residuals:                   33738   BIC:                         6.077e+05\n",
       "Df Model:                          11                                         \n",
       "Covariance Type:            nonrobust                                         \n",
       "==============================================================================\n",
       "                 coef    std err          t      P>|t|      [0.025      0.975]\n",
       "------------------------------------------------------------------------------\n",
       "const      -4188.1044    573.188     -7.307      0.000   -5311.572   -3064.636\n",
       "x1             2.0144      0.642      3.137      0.002       0.756       3.273\n",
       "x2            22.1673      5.369      4.129      0.000      11.644      32.691\n",
       "x3             0.2906      0.109      2.659      0.008       0.076       0.505\n",
       "x4            19.8691      0.809     24.566      0.000      18.284      21.454\n",
       "x5             0.1993      0.200      0.997      0.319      -0.192       0.591\n",
       "x6           941.1222   1097.089      0.858      0.391   -1209.210    3091.455\n",
       "x7             4.4268      0.336     13.187      0.000       3.769       5.085\n",
       "x8            35.1341      5.337      6.583      0.000      24.673      45.595\n",
       "x9           216.2260     74.518      2.902      0.004      70.167     362.285\n",
       "x10          -58.9815      4.565    -12.920      0.000     -67.929     -50.034\n",
       "x11           -6.6804      1.235     -5.407      0.000      -9.102      -4.259\n",
       "==============================================================================\n",
       "Omnibus:                    45064.361   Durbin-Watson:                   0.201\n",
       "Prob(Omnibus):                  0.000   Jarque-Bera (JB):             2180.697\n",
       "Skew:                          -0.060   Prob(JB):                         0.00\n",
       "Kurtosis:                       1.761   Cond. No.                     3.69e+04\n",
       "==============================================================================\n",
       "\n",
       "Warnings:\n",
       "[1] Standard Errors assume that the covariance matrix of the errors is correctly specified.\n",
       "[2] The condition number is large, 3.69e+04. This might indicate that there are\n",
       "strong multicollinearity or other numerical problems.\n",
       "\"\"\""
      ]
     },
     "execution_count": 41,
     "metadata": {},
     "output_type": "execute_result"
    }
   ],
   "source": [
    "X_opt = X[:, [0, 2, 3, 4, 7, 8, 9, 10, 11, 12, 13, 14]]\n",
    "regressor_OLS = sm.OLS(endog=y, exog=X_opt).fit()\n",
    "regressor_OLS.summary()"
   ]
  },
  {
   "cell_type": "code",
   "execution_count": 42,
   "metadata": {},
   "outputs": [
    {
     "data": {
      "text/html": [
       "<table class=\"simpletable\">\n",
       "<caption>OLS Regression Results</caption>\n",
       "<tr>\n",
       "  <th>Dep. Variable:</th>            <td>y</td>        <th>  R-squared:         </th>  <td>   0.028</td>  \n",
       "</tr>\n",
       "<tr>\n",
       "  <th>Model:</th>                   <td>OLS</td>       <th>  Adj. R-squared:    </th>  <td>   0.027</td>  \n",
       "</tr>\n",
       "<tr>\n",
       "  <th>Method:</th>             <td>Least Squares</td>  <th>  F-statistic:       </th>  <td>   96.06</td>  \n",
       "</tr>\n",
       "<tr>\n",
       "  <th>Date:</th>             <td>Thu, 01 Aug 2019</td> <th>  Prob (F-statistic):</th>  <td>4.16e-197</td> \n",
       "</tr>\n",
       "<tr>\n",
       "  <th>Time:</th>                 <td>15:21:04</td>     <th>  Log-Likelihood:    </th> <td>-3.0380e+05</td>\n",
       "</tr>\n",
       "<tr>\n",
       "  <th>No. Observations:</th>      <td> 33750</td>      <th>  AIC:               </th>  <td>6.076e+05</td> \n",
       "</tr>\n",
       "<tr>\n",
       "  <th>Df Residuals:</th>          <td> 33739</td>      <th>  BIC:               </th>  <td>6.077e+05</td> \n",
       "</tr>\n",
       "<tr>\n",
       "  <th>Df Model:</th>              <td>    10</td>      <th>                     </th>      <td> </td>     \n",
       "</tr>\n",
       "<tr>\n",
       "  <th>Covariance Type:</th>      <td>nonrobust</td>    <th>                     </th>      <td> </td>     \n",
       "</tr>\n",
       "</table>\n",
       "<table class=\"simpletable\">\n",
       "<tr>\n",
       "    <td></td>       <th>coef</th>     <th>std err</th>      <th>t</th>      <th>P>|t|</th>  <th>[0.025</th>    <th>0.975]</th>  \n",
       "</tr>\n",
       "<tr>\n",
       "  <th>const</th> <td>-4186.0977</td> <td>  573.181</td> <td>   -7.303</td> <td> 0.000</td> <td>-5309.552</td> <td>-3062.644</td>\n",
       "</tr>\n",
       "<tr>\n",
       "  <th>x1</th>    <td>    2.0227</td> <td>    0.642</td> <td>    3.150</td> <td> 0.002</td> <td>    0.764</td> <td>    3.281</td>\n",
       "</tr>\n",
       "<tr>\n",
       "  <th>x2</th>    <td>   22.1433</td> <td>    5.369</td> <td>    4.124</td> <td> 0.000</td> <td>   11.620</td> <td>   32.667</td>\n",
       "</tr>\n",
       "<tr>\n",
       "  <th>x3</th>    <td>    0.2907</td> <td>    0.109</td> <td>    2.659</td> <td> 0.008</td> <td>    0.076</td> <td>    0.505</td>\n",
       "</tr>\n",
       "<tr>\n",
       "  <th>x4</th>    <td>   19.8575</td> <td>    0.809</td> <td>   24.555</td> <td> 0.000</td> <td>   18.272</td> <td>   21.443</td>\n",
       "</tr>\n",
       "<tr>\n",
       "  <th>x5</th>    <td>    0.1992</td> <td>    0.200</td> <td>    0.997</td> <td> 0.319</td> <td>   -0.192</td> <td>    0.591</td>\n",
       "</tr>\n",
       "<tr>\n",
       "  <th>x6</th>    <td>    4.4304</td> <td>    0.336</td> <td>   13.199</td> <td> 0.000</td> <td>    3.772</td> <td>    5.088</td>\n",
       "</tr>\n",
       "<tr>\n",
       "  <th>x7</th>    <td>   35.1732</td> <td>    5.337</td> <td>    6.591</td> <td> 0.000</td> <td>   24.713</td> <td>   45.634</td>\n",
       "</tr>\n",
       "<tr>\n",
       "  <th>x8</th>    <td>  216.2497</td> <td>   74.518</td> <td>    2.902</td> <td> 0.004</td> <td>   70.191</td> <td>  362.308</td>\n",
       "</tr>\n",
       "<tr>\n",
       "  <th>x9</th>    <td>  -58.8564</td> <td>    4.563</td> <td>  -12.900</td> <td> 0.000</td> <td>  -67.799</td> <td>  -49.914</td>\n",
       "</tr>\n",
       "<tr>\n",
       "  <th>x10</th>   <td>   -6.6648</td> <td>    1.235</td> <td>   -5.395</td> <td> 0.000</td> <td>   -9.086</td> <td>   -4.244</td>\n",
       "</tr>\n",
       "</table>\n",
       "<table class=\"simpletable\">\n",
       "<tr>\n",
       "  <th>Omnibus:</th>       <td>45101.035</td> <th>  Durbin-Watson:     </th> <td>   0.201</td>\n",
       "</tr>\n",
       "<tr>\n",
       "  <th>Prob(Omnibus):</th>  <td> 0.000</td>   <th>  Jarque-Bera (JB):  </th> <td>2180.984</td>\n",
       "</tr>\n",
       "<tr>\n",
       "  <th>Skew:</th>           <td>-0.060</td>   <th>  Prob(JB):          </th> <td>    0.00</td>\n",
       "</tr>\n",
       "<tr>\n",
       "  <th>Kurtosis:</th>       <td> 1.761</td>   <th>  Cond. No.          </th> <td>1.94e+04</td>\n",
       "</tr>\n",
       "</table><br/><br/>Warnings:<br/>[1] Standard Errors assume that the covariance matrix of the errors is correctly specified.<br/>[2] The condition number is large, 1.94e+04. This might indicate that there are<br/>strong multicollinearity or other numerical problems."
      ],
      "text/plain": [
       "<class 'statsmodels.iolib.summary.Summary'>\n",
       "\"\"\"\n",
       "                            OLS Regression Results                            \n",
       "==============================================================================\n",
       "Dep. Variable:                      y   R-squared:                       0.028\n",
       "Model:                            OLS   Adj. R-squared:                  0.027\n",
       "Method:                 Least Squares   F-statistic:                     96.06\n",
       "Date:                Thu, 01 Aug 2019   Prob (F-statistic):          4.16e-197\n",
       "Time:                        15:21:04   Log-Likelihood:            -3.0380e+05\n",
       "No. Observations:               33750   AIC:                         6.076e+05\n",
       "Df Residuals:                   33739   BIC:                         6.077e+05\n",
       "Df Model:                          10                                         \n",
       "Covariance Type:            nonrobust                                         \n",
       "==============================================================================\n",
       "                 coef    std err          t      P>|t|      [0.025      0.975]\n",
       "------------------------------------------------------------------------------\n",
       "const      -4186.0977    573.181     -7.303      0.000   -5309.552   -3062.644\n",
       "x1             2.0227      0.642      3.150      0.002       0.764       3.281\n",
       "x2            22.1433      5.369      4.124      0.000      11.620      32.667\n",
       "x3             0.2907      0.109      2.659      0.008       0.076       0.505\n",
       "x4            19.8575      0.809     24.555      0.000      18.272      21.443\n",
       "x5             0.1992      0.200      0.997      0.319      -0.192       0.591\n",
       "x6             4.4304      0.336     13.199      0.000       3.772       5.088\n",
       "x7            35.1732      5.337      6.591      0.000      24.713      45.634\n",
       "x8           216.2497     74.518      2.902      0.004      70.191     362.308\n",
       "x9           -58.8564      4.563    -12.900      0.000     -67.799     -49.914\n",
       "x10           -6.6648      1.235     -5.395      0.000      -9.086      -4.244\n",
       "==============================================================================\n",
       "Omnibus:                    45101.035   Durbin-Watson:                   0.201\n",
       "Prob(Omnibus):                  0.000   Jarque-Bera (JB):             2180.984\n",
       "Skew:                          -0.060   Prob(JB):                         0.00\n",
       "Kurtosis:                       1.761   Cond. No.                     1.94e+04\n",
       "==============================================================================\n",
       "\n",
       "Warnings:\n",
       "[1] Standard Errors assume that the covariance matrix of the errors is correctly specified.\n",
       "[2] The condition number is large, 1.94e+04. This might indicate that there are\n",
       "strong multicollinearity or other numerical problems.\n",
       "\"\"\""
      ]
     },
     "execution_count": 42,
     "metadata": {},
     "output_type": "execute_result"
    }
   ],
   "source": [
    "X_opt = X[:, [0, 2, 3, 4, 7, 8, 10, 11, 12, 13, 14]]\n",
    "regressor_OLS = sm.OLS(endog=y, exog=X_opt).fit()\n",
    "regressor_OLS.summary()"
   ]
  },
  {
   "cell_type": "code",
   "execution_count": 43,
   "metadata": {},
   "outputs": [
    {
     "data": {
      "text/html": [
       "<table class=\"simpletable\">\n",
       "<caption>OLS Regression Results</caption>\n",
       "<tr>\n",
       "  <th>Dep. Variable:</th>            <td>y</td>        <th>  R-squared:         </th>  <td>   0.028</td>  \n",
       "</tr>\n",
       "<tr>\n",
       "  <th>Model:</th>                   <td>OLS</td>       <th>  Adj. R-squared:    </th>  <td>   0.027</td>  \n",
       "</tr>\n",
       "<tr>\n",
       "  <th>Method:</th>             <td>Least Squares</td>  <th>  F-statistic:       </th>  <td>   106.6</td>  \n",
       "</tr>\n",
       "<tr>\n",
       "  <th>Date:</th>             <td>Thu, 01 Aug 2019</td> <th>  Prob (F-statistic):</th>  <td>6.41e-198</td> \n",
       "</tr>\n",
       "<tr>\n",
       "  <th>Time:</th>                 <td>15:21:05</td>     <th>  Log-Likelihood:    </th> <td>-3.0380e+05</td>\n",
       "</tr>\n",
       "<tr>\n",
       "  <th>No. Observations:</th>      <td> 33750</td>      <th>  AIC:               </th>  <td>6.076e+05</td> \n",
       "</tr>\n",
       "<tr>\n",
       "  <th>Df Residuals:</th>          <td> 33740</td>      <th>  BIC:               </th>  <td>6.077e+05</td> \n",
       "</tr>\n",
       "<tr>\n",
       "  <th>Df Model:</th>              <td>     9</td>      <th>                     </th>      <td> </td>     \n",
       "</tr>\n",
       "<tr>\n",
       "  <th>Covariance Type:</th>      <td>nonrobust</td>    <th>                     </th>      <td> </td>     \n",
       "</tr>\n",
       "</table>\n",
       "<table class=\"simpletable\">\n",
       "<tr>\n",
       "    <td></td>       <th>coef</th>     <th>std err</th>      <th>t</th>      <th>P>|t|</th>  <th>[0.025</th>    <th>0.975]</th>  \n",
       "</tr>\n",
       "<tr>\n",
       "  <th>const</th> <td>-4189.0885</td> <td>  573.173</td> <td>   -7.309</td> <td> 0.000</td> <td>-5312.527</td> <td>-3065.650</td>\n",
       "</tr>\n",
       "<tr>\n",
       "  <th>x1</th>    <td>    2.0145</td> <td>    0.642</td> <td>    3.138</td> <td> 0.002</td> <td>    0.756</td> <td>    3.273</td>\n",
       "</tr>\n",
       "<tr>\n",
       "  <th>x2</th>    <td>   22.1373</td> <td>    5.369</td> <td>    4.123</td> <td> 0.000</td> <td>   11.614</td> <td>   32.661</td>\n",
       "</tr>\n",
       "<tr>\n",
       "  <th>x3</th>    <td>    0.2910</td> <td>    0.109</td> <td>    2.662</td> <td> 0.008</td> <td>    0.077</td> <td>    0.505</td>\n",
       "</tr>\n",
       "<tr>\n",
       "  <th>x4</th>    <td>   19.8685</td> <td>    0.809</td> <td>   24.571</td> <td> 0.000</td> <td>   18.284</td> <td>   21.453</td>\n",
       "</tr>\n",
       "<tr>\n",
       "  <th>x5</th>    <td>    4.4321</td> <td>    0.336</td> <td>   13.204</td> <td> 0.000</td> <td>    3.774</td> <td>    5.090</td>\n",
       "</tr>\n",
       "<tr>\n",
       "  <th>x6</th>    <td>   35.1427</td> <td>    5.337</td> <td>    6.585</td> <td> 0.000</td> <td>   24.682</td> <td>   45.603</td>\n",
       "</tr>\n",
       "<tr>\n",
       "  <th>x7</th>    <td>  216.2685</td> <td>   74.518</td> <td>    2.902</td> <td> 0.004</td> <td>   70.210</td> <td>  362.327</td>\n",
       "</tr>\n",
       "<tr>\n",
       "  <th>x8</th>    <td>  -58.8153</td> <td>    4.562</td> <td>  -12.891</td> <td> 0.000</td> <td>  -67.758</td> <td>  -49.873</td>\n",
       "</tr>\n",
       "<tr>\n",
       "  <th>x9</th>    <td>   -6.6451</td> <td>    1.235</td> <td>   -5.380</td> <td> 0.000</td> <td>   -9.066</td> <td>   -4.224</td>\n",
       "</tr>\n",
       "</table>\n",
       "<table class=\"simpletable\">\n",
       "<tr>\n",
       "  <th>Omnibus:</th>       <td>45137.591</td> <th>  Durbin-Watson:     </th> <td>   0.201</td>\n",
       "</tr>\n",
       "<tr>\n",
       "  <th>Prob(Omnibus):</th>  <td> 0.000</td>   <th>  Jarque-Bera (JB):  </th> <td>2181.241</td>\n",
       "</tr>\n",
       "<tr>\n",
       "  <th>Skew:</th>           <td>-0.060</td>   <th>  Prob(JB):          </th> <td>    0.00</td>\n",
       "</tr>\n",
       "<tr>\n",
       "  <th>Kurtosis:</th>       <td> 1.760</td>   <th>  Cond. No.          </th> <td>1.94e+04</td>\n",
       "</tr>\n",
       "</table><br/><br/>Warnings:<br/>[1] Standard Errors assume that the covariance matrix of the errors is correctly specified.<br/>[2] The condition number is large, 1.94e+04. This might indicate that there are<br/>strong multicollinearity or other numerical problems."
      ],
      "text/plain": [
       "<class 'statsmodels.iolib.summary.Summary'>\n",
       "\"\"\"\n",
       "                            OLS Regression Results                            \n",
       "==============================================================================\n",
       "Dep. Variable:                      y   R-squared:                       0.028\n",
       "Model:                            OLS   Adj. R-squared:                  0.027\n",
       "Method:                 Least Squares   F-statistic:                     106.6\n",
       "Date:                Thu, 01 Aug 2019   Prob (F-statistic):          6.41e-198\n",
       "Time:                        15:21:05   Log-Likelihood:            -3.0380e+05\n",
       "No. Observations:               33750   AIC:                         6.076e+05\n",
       "Df Residuals:                   33740   BIC:                         6.077e+05\n",
       "Df Model:                           9                                         \n",
       "Covariance Type:            nonrobust                                         \n",
       "==============================================================================\n",
       "                 coef    std err          t      P>|t|      [0.025      0.975]\n",
       "------------------------------------------------------------------------------\n",
       "const      -4189.0885    573.173     -7.309      0.000   -5312.527   -3065.650\n",
       "x1             2.0145      0.642      3.138      0.002       0.756       3.273\n",
       "x2            22.1373      5.369      4.123      0.000      11.614      32.661\n",
       "x3             0.2910      0.109      2.662      0.008       0.077       0.505\n",
       "x4            19.8685      0.809     24.571      0.000      18.284      21.453\n",
       "x5             4.4321      0.336     13.204      0.000       3.774       5.090\n",
       "x6            35.1427      5.337      6.585      0.000      24.682      45.603\n",
       "x7           216.2685     74.518      2.902      0.004      70.210     362.327\n",
       "x8           -58.8153      4.562    -12.891      0.000     -67.758     -49.873\n",
       "x9            -6.6451      1.235     -5.380      0.000      -9.066      -4.224\n",
       "==============================================================================\n",
       "Omnibus:                    45137.591   Durbin-Watson:                   0.201\n",
       "Prob(Omnibus):                  0.000   Jarque-Bera (JB):             2181.241\n",
       "Skew:                          -0.060   Prob(JB):                         0.00\n",
       "Kurtosis:                       1.760   Cond. No.                     1.94e+04\n",
       "==============================================================================\n",
       "\n",
       "Warnings:\n",
       "[1] Standard Errors assume that the covariance matrix of the errors is correctly specified.\n",
       "[2] The condition number is large, 1.94e+04. This might indicate that there are\n",
       "strong multicollinearity or other numerical problems.\n",
       "\"\"\""
      ]
     },
     "execution_count": 43,
     "metadata": {},
     "output_type": "execute_result"
    }
   ],
   "source": [
    "X_opt = X[:, [0, 2, 3, 4, 7, 10, 11, 12, 13, 14]]\n",
    "regressor_OLS = sm.OLS(endog=y, exog=X_opt).fit()\n",
    "regressor_OLS.summary()"
   ]
  },
  {
   "cell_type": "code",
   "execution_count": 50,
   "metadata": {},
   "outputs": [
    {
     "data": {
      "text/plain": [
       "(14454, 15)"
      ]
     },
     "execution_count": 50,
     "metadata": {},
     "output_type": "execute_result"
    }
   ],
   "source": [
    "X_test.shape"
   ]
  },
  {
   "cell_type": "code",
   "execution_count": 51,
   "metadata": {
    "scrolled": true
   },
   "outputs": [],
   "source": [
    "X_test = X_test[:, [0, 2, 3, 4, 7, 10, 11, 12, 13, 14]]"
   ]
  },
  {
   "cell_type": "code",
   "execution_count": 45,
   "metadata": {},
   "outputs": [
    {
     "data": {
      "text/plain": [
       "(14454, 14)"
      ]
     },
     "execution_count": 45,
     "metadata": {},
     "output_type": "execute_result"
    }
   ],
   "source": [
    "test.shape"
   ]
  },
  {
   "cell_type": "code",
   "execution_count": 73,
   "metadata": {},
   "outputs": [
    {
     "data": {
      "text/plain": [
       "array([3214.15322736, 3279.61362709, 3473.9724086 , ..., 3003.53808107,\n",
       "       3618.64075418, 3662.88377619])"
      ]
     },
     "execution_count": 73,
     "metadata": {},
     "output_type": "execute_result"
    }
   ],
   "source": [
    "predict = regressor_OLS.predict(X_test)\n",
    "predict"
   ]
  },
  {
   "cell_type": "code",
   "execution_count": 74,
   "metadata": {},
   "outputs": [
    {
     "data": {
      "text/plain": [
       "numpy.ndarray"
      ]
     },
     "execution_count": 74,
     "metadata": {},
     "output_type": "execute_result"
    }
   ],
   "source": [
    "type(predict)"
   ]
  },
  {
   "cell_type": "code",
   "execution_count": 75,
   "metadata": {},
   "outputs": [],
   "source": [
    "predict = predict.astype('int32')"
   ]
  },
  {
   "cell_type": "code",
   "execution_count": 76,
   "metadata": {},
   "outputs": [
    {
     "data": {
      "text/plain": [
       "array([3214, 3279, 3473, ..., 3003, 3618, 3662])"
      ]
     },
     "execution_count": 76,
     "metadata": {},
     "output_type": "execute_result"
    }
   ],
   "source": [
    "predict"
   ]
  },
  {
   "cell_type": "code",
   "execution_count": 77,
   "metadata": {},
   "outputs": [],
   "source": [
    "final = pd.DataFrame({\"date_time\":test_data['date_time'], 'traffic_volume':predict})"
   ]
  },
  {
   "cell_type": "code",
   "execution_count": 78,
   "metadata": {},
   "outputs": [],
   "source": [
    "#final.to_csv(\"submission_1.csv\", index=False)"
   ]
  },
  {
   "cell_type": "code",
   "execution_count": null,
   "metadata": {},
   "outputs": [],
   "source": []
  }
 ],
 "metadata": {
  "kernelspec": {
   "display_name": "Python 3",
   "language": "python",
   "name": "python3"
  },
  "language_info": {
   "codemirror_mode": {
    "name": "ipython",
    "version": 3
   },
   "file_extension": ".py",
   "mimetype": "text/x-python",
   "name": "python",
   "nbconvert_exporter": "python",
   "pygments_lexer": "ipython3",
   "version": "3.6.5"
  }
 },
 "nbformat": 4,
 "nbformat_minor": 2
}
